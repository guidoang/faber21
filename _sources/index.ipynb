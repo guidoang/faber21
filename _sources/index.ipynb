{
 "cells": [
  {
   "cell_type": "markdown",
   "id": "ca93cafb",
   "metadata": {},
   "source": [
    "# Benvenuti\n",
    "E' il sito M team.\n",
    "Guarda [chi siamo](fig-gruppo)."
   ]
  },
  {
   "cell_type": "markdown",
   "id": "21c44a85",
   "metadata": {},
   "source": [
    "Vediamo cosa puoi trovare in questo sito.\n",
    ":::{admonition} Novità!\n",
    "Ampliate le pagine sui [vettori](title:vettori01).\n",
    ":::\n",
    "Molto altro ci sarà in futuro!\n",
    "\n",
    ":::{panels}\n",
    ":container: +full-width text-left\n",
    ":column: col-lg-6 px-2 py-2\n",
    ":card:\n",
    "\n",
    "**[Basi di programmazione](title:basi01)** 💻\n",
    "^^^\n",
    "Cosa serve sapere per imparare un linguaggio di programmazione e scrivere un programma *vero*.<br/>\n",
    "Darai uno sguardo a Python, uno dei linguaggi del momento.\n",
    "---\n",
    "**[Notebook](title:basi01)** 📓\n",
    "^^^\n",
    "Imparare ad utilizzare i notebook, oggi la presentazione scientifica web più cool.<br/>\n",
    "Realizzerai un *unico* documento che presenti bene un testo scientifico e che effettui presto i calcoli necessari.\n",
    "---\n",
    "**[Matematica e computer](title:calcsimb01)** 🔣\n",
    "^^^\n",
    "Elaborare matematica e fisica con il computer.<br/>\n",
    "Imparerai come svolgere i calcoli simbolici all'interno di un notebook.\n",
    "---\n",
    "**[Laboratorio](title:misurag)** ✍️\n",
    "^^^\n",
    "Utilizzare i notebook come taccuini di laboratorio.<br/>\n",
    "Vedrai come realizzare una relazione di laboratorio con poca fatica.\n",
    ":::"
   ]
  },
  {
   "cell_type": "markdown",
   "id": "b3055ee9",
   "metadata": {},
   "source": [
    ":::{warning}\n",
    "*Alcune* pagine potrebbero dover caricare componenti aggiuntivi dalla rete.\n",
    "Per questo, navigando in questo sito, è meglio mantenere un collegamento attivo a Internet.\n",
    ":::"
   ]
  }
 ],
 "metadata": {
  "kernelspec": {
   "display_name": "Python 3",
   "language": "python",
   "name": "python3"
  },
  "language_info": {
   "codemirror_mode": {
    "name": "ipython",
    "version": 3
   },
   "file_extension": ".py",
   "mimetype": "text/x-python",
   "name": "python",
   "nbconvert_exporter": "python",
   "pygments_lexer": "ipython3",
   "version": "3.8.8"
  }
 },
 "nbformat": 4,
 "nbformat_minor": 5
}

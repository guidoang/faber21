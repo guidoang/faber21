{
 "cells": [
  {
   "cell_type": "markdown",
   "id": "f029604d",
   "metadata": {},
   "source": [
    "# Equazioni e sistemi\n",
    "Uno dei punti di forza di Python è costituito dalle librerie di calcolo scientifico e simbolico.\n",
    "\n",
    "Primo compito, caricare queste librerie."
   ]
  },
  {
   "cell_type": "code",
   "execution_count": 1,
   "id": "68b5b5d0",
   "metadata": {},
   "outputs": [],
   "source": [
    "# import\n",
    "import numpy as np\n",
    "from sympy import *\n",
    "from scipy import constants"
   ]
  },
  {
   "cell_type": "markdown",
   "id": "94f7f4de",
   "metadata": {},
   "source": [
    "Poi occorre dire al notebook quali variabili o parametri si intendono utilizzare-"
   ]
  },
  {
   "cell_type": "code",
   "execution_count": 2,
   "id": "41e33323",
   "metadata": {},
   "outputs": [],
   "source": [
    "# i parametri, le variabili che utilizzeremo\n",
    "a, b, c, x, y, z = symbols('a, b, c, x, y, z')"
   ]
  },
  {
   "cell_type": "markdown",
   "id": "bfe812b9",
   "metadata": {},
   "source": [
    "# Equazioni di primo grado\n",
    "L'equazione di primo grado si risolve subito.\n",
    "\n",
    "Si porta tutto a primo menbro e poi..."
   ]
  },
  {
   "cell_type": "code",
   "execution_count": 3,
   "id": "65204291",
   "metadata": {},
   "outputs": [
    {
     "data": {
      "text/latex": [
       "$\\displaystyle \\left\\{- \\frac{1}{2}\\right\\}$"
      ],
      "text/plain": [
       "FiniteSet(-1/2)"
      ]
     },
     "execution_count": 3,
     "metadata": {},
     "output_type": "execute_result"
    }
   ],
   "source": [
    "solveset(2*x + 1, x)"
   ]
  },
  {
   "cell_type": "code",
   "execution_count": 4,
   "id": "e6afc056",
   "metadata": {},
   "outputs": [
    {
     "data": {
      "text/latex": [
       "$\\displaystyle \\left\\{- \\frac{1}{10}\\right\\}$"
      ],
      "text/plain": [
       "FiniteSet(-1/10)"
      ]
     },
     "execution_count": 4,
     "metadata": {},
     "output_type": "execute_result"
    }
   ],
   "source": [
    "solveset(2*x + 1 + 8*x, x)"
   ]
  },
  {
   "cell_type": "code",
   "execution_count": 5,
   "id": "c7237634",
   "metadata": {},
   "outputs": [
    {
     "data": {
      "text/latex": [
       "$\\displaystyle \\left\\{\\frac{b}{a}\\right\\}$"
      ],
      "text/plain": [
       "FiniteSet(b/a)"
      ]
     },
     "execution_count": 5,
     "metadata": {},
     "output_type": "execute_result"
    }
   ],
   "source": [
    "# anche letterale\n",
    "solveset(a*x - b, x)"
   ]
  },
  {
   "cell_type": "markdown",
   "id": "2022aff5",
   "metadata": {},
   "source": [
    "# Formule\n",
    "E' possibile manipolare le formule così come sono."
   ]
  },
  {
   "cell_type": "code",
   "execution_count": 6,
   "id": "6fe34cdd",
   "metadata": {},
   "outputs": [],
   "source": [
    "# i simboli\n",
    "p, V, n, R, T = symbols('p, V, n, R, T')"
   ]
  },
  {
   "cell_type": "code",
   "execution_count": 7,
   "id": "2b3094ab",
   "metadata": {},
   "outputs": [],
   "source": [
    "# la formula\n",
    "legge = Eq(p*V, n*R*T)"
   ]
  },
  {
   "cell_type": "code",
   "execution_count": 8,
   "id": "dd586ce5",
   "metadata": {},
   "outputs": [
    {
     "data": {
      "text/latex": [
       "$\\displaystyle \\left\\{\\frac{V p}{R n}\\right\\}$"
      ],
      "text/plain": [
       "FiniteSet(V*p/(R*n))"
      ]
     },
     "execution_count": 8,
     "metadata": {},
     "output_type": "execute_result"
    }
   ],
   "source": [
    "# risolve\n",
    "solveset(legge, T)"
   ]
  },
  {
   "cell_type": "code",
   "execution_count": 9,
   "id": "b4d67232",
   "metadata": {},
   "outputs": [
    {
     "data": {
      "text/latex": [
       "$\\displaystyle \\left\\{\\frac{R T n}{V}\\right\\}$"
      ],
      "text/plain": [
       "FiniteSet(R*T*n/V)"
      ]
     },
     "execution_count": 9,
     "metadata": {},
     "output_type": "execute_result"
    }
   ],
   "source": [
    "solveset(legge, p)"
   ]
  },
  {
   "cell_type": "markdown",
   "id": "4434f7e1",
   "metadata": {},
   "source": [
    "Dopo aver risolto simbolicamente, possiamo trovare il valore"
   ]
  },
  {
   "cell_type": "code",
   "execution_count": 10,
   "id": "7a7a7f6d",
   "metadata": {},
   "outputs": [
    {
     "name": "stdout",
     "output_type": "stream",
     "text": [
      "La pressione è 101325 Pa\n"
     ]
    }
   ],
   "source": [
    "# i valori deli parametri\n",
    "R = constants.gas_constant\n",
    "T = 273.15\n",
    "n = 1\n",
    "V = 0.02241397\n",
    "\n",
    "# calcola\n",
    "p = n*R*T/V\n",
    "\n",
    "print(f'La pressione è {p:.0f} Pa')"
   ]
  },
  {
   "cell_type": "markdown",
   "id": "c3156be5",
   "metadata": {},
   "source": [
    "## Sistemi"
   ]
  },
  {
   "cell_type": "code",
   "execution_count": 11,
   "id": "91be702c",
   "metadata": {},
   "outputs": [
    {
     "data": {
      "text/latex": [
       "$\\displaystyle \\left\\{\\left( 5, \\  2\\right)\\right\\}$"
      ],
      "text/plain": [
       "FiniteSet((5, 2))"
      ]
     },
     "execution_count": 11,
     "metadata": {},
     "output_type": "execute_result"
    }
   ],
   "source": [
    "# sistema a due incognite\n",
    "linsolve([x + y -7, x -y -3], x , y)"
   ]
  },
  {
   "cell_type": "code",
   "execution_count": 12,
   "id": "0db6fa7f",
   "metadata": {},
   "outputs": [
    {
     "data": {
      "text/latex": [
       "$\\displaystyle \\left\\{\\left( 5, \\  2, \\  3\\right)\\right\\}$"
      ],
      "text/plain": [
       "FiniteSet((5, 2, 3))"
      ]
     },
     "execution_count": 12,
     "metadata": {},
     "output_type": "execute_result"
    }
   ],
   "source": [
    "# sistema a tre incognite\n",
    "linsolve([x + y -7, x -y -3, x + z - 8], x , y, z)"
   ]
  },
  {
   "cell_type": "code",
   "execution_count": 13,
   "id": "83a6fbfa",
   "metadata": {},
   "outputs": [
    {
     "data": {
      "text/latex": [
       "$\\displaystyle \\left\\{\\left( \\frac{a}{2} + \\frac{b}{2}, \\  \\frac{a}{2} - \\frac{b}{2}, \\  - \\frac{a}{2} - \\frac{b}{2} + c\\right)\\right\\}$"
      ],
      "text/plain": [
       "FiniteSet((a/2 + b/2, a/2 - b/2, -a/2 - b/2 + c))"
      ]
     },
     "execution_count": 13,
     "metadata": {},
     "output_type": "execute_result"
    }
   ],
   "source": [
    "# sistema a tre incognite letterale\n",
    "linsolve([x + y -a, x -y -b, x + z - c], x , y, z)"
   ]
  },
  {
   "cell_type": "code",
   "execution_count": null,
   "id": "c692ee4a",
   "metadata": {},
   "outputs": [],
   "source": []
  }
 ],
 "metadata": {
  "kernelspec": {
   "display_name": "Python 3",
   "language": "python",
   "name": "python3"
  },
  "language_info": {
   "codemirror_mode": {
    "name": "ipython",
    "version": 3
   },
   "file_extension": ".py",
   "mimetype": "text/x-python",
   "name": "python",
   "nbconvert_exporter": "python",
   "pygments_lexer": "ipython3",
   "version": "3.8.8"
  }
 },
 "nbformat": 4,
 "nbformat_minor": 5
}

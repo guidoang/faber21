{
 "cells": [
  {
   "cell_type": "markdown",
   "metadata": {
    "slideshow": {
     "slide_type": "slide"
    }
   },
   "source": [
    "(title:calcsimb01)=\n",
    "# Il calcolo simbolico"
   ]
  },
  {
   "cell_type": "markdown",
   "metadata": {},
   "source": [
    "![polinomio](img/polynomials.png \"polinomio\")\n",
    "\n",
    "E' importante lavorare con i simboli, *non* con i soli numeri.\n",
    "\n",
    "In questa lezione vogliamo esaminare le operazioni con i polinomi.\n",
    "In particolare analizzeremo:\n",
    " - somma di due polinomi\n",
    " - prodotto di due polinomi\n",
    " - divisione di due polinomi.\n",
    "\n",
    "Carichiamo le librerie necessarie."
   ]
  },
  {
   "cell_type": "code",
   "execution_count": 49,
   "metadata": {
    "slideshow": {
     "slide_type": "subslide"
    }
   },
   "outputs": [],
   "source": [
    "# gli import\n",
    "import math\n",
    "import numpy as np\n",
    "from sympy import *"
   ]
  },
  {
   "cell_type": "markdown",
   "metadata": {},
   "source": [
    "La libreria *sympy* è quella che consente di svolgere calcoli simbolici, vale a dire effettuare operazioni che coinvolgano sia numeri che lettere.<br/>\n",
    "La teoria à quella del calcolo letterale che si impara al primo anno di liceo."
   ]
  },
  {
   "cell_type": "markdown",
   "metadata": {
    "slideshow": {
     "slide_type": "slide"
    }
   },
   "source": [
    "## Gli ingredienti"
   ]
  },
  {
   "cell_type": "code",
   "execution_count": 50,
   "metadata": {},
   "outputs": [],
   "source": [
    "# le variabili ed i rispettivi simboliche utilizzeremo\n",
    "a, b, x, n = symbols('a, b, x, n')"
   ]
  },
  {
   "cell_type": "code",
   "execution_count": 51,
   "metadata": {},
   "outputs": [],
   "source": [
    "# i primi polinomii\n",
    "P1 = 2*a*x + 3*b\n",
    "P2 = 3*a*x*x + 3*a*x + 5"
   ]
  },
  {
   "cell_type": "markdown",
   "metadata": {
    "slideshow": {
     "slide_type": "slide"
    }
   },
   "source": [
    "## Somma di polinomi\n",
    "E' ovviamente possibile sommare simbolicamente due polinomi.\n",
    "\n",
    ":::{caution}\n",
    "E' possibile sommare solo i *monomi* simili. In generale la somma di due polinomi si lascia indicata, solo si riducono gli eventuali termini simili.\n",
    ":::\n"
   ]
  },
  {
   "cell_type": "code",
   "execution_count": 52,
   "metadata": {},
   "outputs": [
    {
     "data": {
      "text/latex": [
       "$\\displaystyle 3 a x^{2} + 5 a x + 3 b + 5$"
      ],
      "text/plain": [
       "3*a*x**2 + 5*a*x + 3*b + 5"
      ]
     },
     "execution_count": 52,
     "metadata": {},
     "output_type": "execute_result"
    }
   ],
   "source": [
    "P1 + P2"
   ]
  },
  {
   "cell_type": "markdown",
   "metadata": {
    "slideshow": {
     "slide_type": "slide"
    }
   },
   "source": [
    "## Prodotto di polinomi\n",
    "Il notebook ci fa risparmiare molta fatica calcolando per noi il prodotto di due polinomi.<br/>\n",
    "Notiamo che, moltiplicando ad esempio un binomio (due termini) per un trinomio (tre termini) dobbiamo eseguire $2 \\times 3 = 6$ prodotti di monomi."
   ]
  },
  {
   "cell_type": "code",
   "execution_count": 53,
   "metadata": {},
   "outputs": [
    {
     "data": {
      "text/latex": [
       "$\\displaystyle 6 a^{2} x^{3} + 6 a^{2} x^{2} + 9 a b x^{2} + 9 a b x + 10 a x + 15 b$"
      ],
      "text/plain": [
       "6*a**2*x**3 + 6*a**2*x**2 + 9*a*b*x**2 + 9*a*b*x + 10*a*x + 15*b"
      ]
     },
     "execution_count": 53,
     "metadata": {},
     "output_type": "execute_result"
    }
   ],
   "source": [
    "expand(P1 * P2)"
   ]
  },
  {
   "cell_type": "markdown",
   "metadata": {
    "slideshow": {
     "slide_type": "slide"
    }
   },
   "source": [
    "## Potenza di un binomio\n",
    "Le potenze di un polinomio non sono un problema.<br/>\n",
    "Al liceo si impara il quadrato di un bionomio."
   ]
  },
  {
   "cell_type": "code",
   "execution_count": 54,
   "metadata": {},
   "outputs": [
    {
     "data": {
      "text/latex": [
       "$\\displaystyle 4 a^{2} x^{2} + 12 a b x + 9 b^{2}$"
      ],
      "text/plain": [
       "4*a**2*x**2 + 12*a*b*x + 9*b**2"
      ]
     },
     "execution_count": 54,
     "metadata": {},
     "output_type": "execute_result"
    }
   ],
   "source": [
    "# il quadrato di un binomio\n",
    "expand(P1 * P1)"
   ]
  },
  {
   "cell_type": "markdown",
   "metadata": {},
   "source": [
    "Ora possiamo ottenere subito il quadrato e il cubo di un polinomio."
   ]
  },
  {
   "cell_type": "code",
   "execution_count": 55,
   "metadata": {},
   "outputs": [
    {
     "data": {
      "text/latex": [
       "$\\displaystyle 9 a^{2} x^{4} + 18 a^{2} x^{3} + 9 a^{2} x^{2} + 30 a x^{2} + 30 a x + 25$"
      ],
      "text/plain": [
       "9*a**2*x**4 + 18*a**2*x**3 + 9*a**2*x**2 + 30*a*x**2 + 30*a*x + 25"
      ]
     },
     "execution_count": 55,
     "metadata": {},
     "output_type": "execute_result"
    }
   ],
   "source": [
    "# il quadrato\n",
    "expand(P2*P2)"
   ]
  },
  {
   "cell_type": "code",
   "execution_count": 56,
   "metadata": {},
   "outputs": [
    {
     "data": {
      "text/latex": [
       "$\\displaystyle 27 a^{3} x^{6} + 81 a^{3} x^{5} + 81 a^{3} x^{4} + 27 a^{3} x^{3} + 135 a^{2} x^{4} + 270 a^{2} x^{3} + 135 a^{2} x^{2} + 225 a x^{2} + 225 a x + 125$"
      ],
      "text/plain": [
       "27*a**3*x**6 + 81*a**3*x**5 + 81*a**3*x**4 + 27*a**3*x**3 + 135*a**2*x**4 + 270*a**2*x**3 + 135*a**2*x**2 + 225*a*x**2 + 225*a*x + 125"
      ]
     },
     "execution_count": 56,
     "metadata": {},
     "output_type": "execute_result"
    }
   ],
   "source": [
    "# il cubo\n",
    "expand(P2*P2*P2)"
   ]
  },
  {
   "cell_type": "markdown",
   "metadata": {},
   "source": [
    "Apprezziamo il notebook, calcolando con carta e penna il cubo di un trinomio, dovremmo eseguire $3 \\times 3\\times 3 = 27$ prodotti di monomi."
   ]
  },
  {
   "cell_type": "markdown",
   "metadata": {
    "slideshow": {
     "slide_type": "slide"
    }
   },
   "source": [
    "## Esempio avanzato\n",
    "I simboli possono apparire anche come esponenti."
   ]
  },
  {
   "cell_type": "code",
   "execution_count": 57,
   "metadata": {},
   "outputs": [],
   "source": [
    "P3 = a**(n+1)*b**n * a**2*b**n"
   ]
  },
  {
   "cell_type": "code",
   "execution_count": 58,
   "metadata": {
    "scrolled": true
   },
   "outputs": [
    {
     "data": {
      "text/latex": [
       "$\\displaystyle a^{3} a^{n} b^{2 n}$"
      ],
      "text/plain": [
       "a**3*a**n*b**(2*n)"
      ]
     },
     "execution_count": 58,
     "metadata": {},
     "output_type": "execute_result"
    }
   ],
   "source": [
    "# riscrive\n",
    "expand(P3)"
   ]
  },
  {
   "cell_type": "code",
   "execution_count": 59,
   "metadata": {},
   "outputs": [
    {
     "data": {
      "text/latex": [
       "$\\displaystyle a^{6} a^{2 n} b^{4 n}$"
      ],
      "text/plain": [
       "a**6*a**(2*n)*b**(4*n)"
      ]
     },
     "execution_count": 59,
     "metadata": {},
     "output_type": "execute_result"
    }
   ],
   "source": [
    "# trova il quadrato\n",
    "\n",
    "expand(P3*P3)"
   ]
  },
  {
   "cell_type": "markdown",
   "metadata": {
    "slideshow": {
     "slide_type": "slide"
    }
   },
   "source": [
    "## Fattorizzazione di un polinomio\n",
    "La fattorizzazione di un polinomio corrisponde, a livello elementare, per esempio, alle operazioni di raccoglimento dei fattori comuni.<br/>\n",
    "La fattorizzazione di un polinomio *può* essere il primo passo per la soluzione di un'equazione.\n",
    "\n",
    ":::{caution}\n",
    "Il raccoglimento dei fattori comuni porta alla fattorizzazione di un polinomio. Questa può essere ottenuta in altri modi, per esempio mediante i prodotti notevoli.\n",
    ":::\n",
    "\n",
    "Vediamo un esempio semplice."
   ]
  },
  {
   "cell_type": "code",
   "execution_count": 60,
   "metadata": {},
   "outputs": [
    {
     "data": {
      "text/latex": [
       "$\\displaystyle 2 x \\left(3 x - 1\\right)$"
      ],
      "text/plain": [
       "2*x*(3*x - 1)"
      ]
     },
     "execution_count": 60,
     "metadata": {},
     "output_type": "execute_result"
    }
   ],
   "source": [
    "# scomposizione\n",
    "factor(6*x*x - 2*x)"
   ]
  },
  {
   "cell_type": "markdown",
   "metadata": {},
   "source": [
    "Poi esempi meno banali."
   ]
  },
  {
   "cell_type": "code",
   "execution_count": 61,
   "metadata": {},
   "outputs": [
    {
     "data": {
      "text/latex": [
       "$\\displaystyle \\left(x - 6\\right) \\left(x - 1\\right)$"
      ],
      "text/plain": [
       "(x - 6)*(x - 1)"
      ]
     },
     "execution_count": 61,
     "metadata": {},
     "output_type": "execute_result"
    }
   ],
   "source": [
    "# scomposizione\n",
    "factor(x*x - 7*x + 6)"
   ]
  },
  {
   "cell_type": "code",
   "execution_count": 62,
   "metadata": {},
   "outputs": [
    {
     "data": {
      "text/latex": [
       "$\\displaystyle 2 x \\left(x + 1\\right) \\left(4 x - 1\\right)$"
      ],
      "text/plain": [
       "2*x*(x + 1)*(4*x - 1)"
      ]
     },
     "execution_count": 62,
     "metadata": {},
     "output_type": "execute_result"
    }
   ],
   "source": [
    "factor(6*x*x - 2*x + 8*x*x*x)"
   ]
  },
  {
   "cell_type": "markdown",
   "metadata": {
    "slideshow": {
     "slide_type": "slide"
    }
   },
   "source": [
    "## Divisione ta polinomi\n",
    "La *divisione* tra polinomi *non* è sempre possibile:\n",
    "Supponiamo di voler effettuare la divisione\n",
    "\n",
    "$$\\frac{P_1}{P_2} $$\n",
    "\n",
    "La divisione è possibile se\n",
    " * il dividendo $P_1$ è di grado *maggiore o uguale* del divisore $P_2$;\n",
    " * esiste un quoziente $Q$;\n",
    " * può esserci un resto $R$.\n",
    "\n",
    "Deve risultare\n",
    "\n",
    "$$ P_1 = Q \\cdot P_2 + R $$\n",
    "\n",
    "Se $R = 0$, allora $P_1$ *è divisibile* per $P_2$."
   ]
  },
  {
   "cell_type": "markdown",
   "metadata": {},
   "source": [
    "Se $P_1$ è divisibile per $P_2$, allora esiste un polinomio $Q$ tale che\n",
    "\n",
    "$$ P_1 = Q \\cdot P_2 $$\n",
    "\n",
    "Questo vuole anche dire che, se fattorizzo $P_1$, tra i fattori devo trovare $P_2$."
   ]
  },
  {
   "cell_type": "markdown",
   "metadata": {},
   "source": [
    "Primo esempio"
   ]
  },
  {
   "cell_type": "code",
   "execution_count": 63,
   "metadata": {},
   "outputs": [],
   "source": [
    "# Due polinomi\n",
    "P4 = x*x - 7*x + 6\n",
    "P5 = x - 6"
   ]
  },
  {
   "cell_type": "markdown",
   "metadata": {},
   "source": [
    "Controlliamo il grado in $x$ dei due polinomi."
   ]
  },
  {
   "cell_type": "code",
   "execution_count": 64,
   "metadata": {},
   "outputs": [
    {
     "name": "stdout",
     "output_type": "stream",
     "text": [
      "Il grado di P4 è 2 in x.\n",
      "Il grado di P5 è 1 in x.\n"
     ]
    }
   ],
   "source": [
    "grado4 = degree(P4, x)\n",
    "print(f'Il grado di P4 è {grado4} in x.')\n",
    "grado5 = degree(P5, x)\n",
    "print(f'Il grado di P5 è {grado5} in x.')"
   ]
  },
  {
   "cell_type": "markdown",
   "metadata": {},
   "source": [
    "Effettuiamo la divisione, non importa per il momento come, ci pensa la libreria."
   ]
  },
  {
   "cell_type": "code",
   "execution_count": 65,
   "metadata": {},
   "outputs": [
    {
     "data": {
      "text/plain": [
       "(x - 1, 0)"
      ]
     },
     "execution_count": 65,
     "metadata": {},
     "output_type": "execute_result"
    }
   ],
   "source": [
    "# dividiamo\n",
    "div(P4, P5)\n",
    "\n",
    "# il risultato è una coppia (quoziente, resto) "
   ]
  },
  {
   "cell_type": "code",
   "execution_count": 66,
   "metadata": {},
   "outputs": [
    {
     "name": "stdout",
     "output_type": "stream",
     "text": [
      "La divisione di P4 e P5 dà x - 1 e resto 0\n"
     ]
    }
   ],
   "source": [
    "# il risultato può essere riscritto\n",
    "result = div(P4, P5)\n",
    "print(f'La divisione di P4 e P5 dà {result[0]} e resto {result[1]}')"
   ]
  },
  {
   "cell_type": "markdown",
   "metadata": {},
   "source": [
    "Il polinomio $P_4$ è quindi divisibile per $P_5$.<br/>\n",
    "Controlliamo la fattorizzazione di $P_4$:"
   ]
  },
  {
   "cell_type": "code",
   "execution_count": 67,
   "metadata": {},
   "outputs": [
    {
     "data": {
      "text/latex": [
       "$\\displaystyle \\left(x - 6\\right) \\left(x - 1\\right)$"
      ],
      "text/plain": [
       "(x - 6)*(x - 1)"
      ]
     },
     "execution_count": 67,
     "metadata": {},
     "output_type": "execute_result"
    }
   ],
   "source": [
    "factor(P4)"
   ]
  },
  {
   "cell_type": "markdown",
   "metadata": {},
   "source": [
    "contiene effettivamente $P_5$.\n",
    "\n",
    "Riproviamo con"
   ]
  },
  {
   "cell_type": "code",
   "execution_count": 68,
   "metadata": {},
   "outputs": [],
   "source": [
    "# riproviamo con\n",
    "P6 = P4 + 1"
   ]
  },
  {
   "cell_type": "code",
   "execution_count": 69,
   "metadata": {
    "scrolled": true
   },
   "outputs": [
    {
     "name": "stdout",
     "output_type": "stream",
     "text": [
      "La divisione di P6 e P4 da x - 1 e resto 1\n"
     ]
    }
   ],
   "source": [
    "# la disione risulta\n",
    "result = div(P6, P5)\n",
    "\n",
    "print(f'La divisione di P6 e P4 da {result[0]} e resto {result[1]}')"
   ]
  },
  {
   "cell_type": "markdown",
   "metadata": {},
   "source": [
    "Ci ritroviamo un resto, quindi $P_6$ non è divisibile per $P_4$."
   ]
  },
  {
   "cell_type": "markdown",
   "metadata": {},
   "source": [
    "## Divisori\n",
    "Conosciamo già il massimo comun divisore (GCD) e il minimo comune multiplo (lcm) di due numeri.\n",
    "\n",
    ":::{note} \n",
    "Le sigle GCD (Greatest Common Divisor) e lcm (Least Common Multiplier) sono quelle internazionali.\n",
    ":::\n",
    "\n",
    "Ad esempio:"
   ]
  },
  {
   "cell_type": "code",
   "execution_count": 70,
   "metadata": {},
   "outputs": [
    {
     "name": "stdout",
     "output_type": "stream",
     "text": [
      "Il GCD di 6 e 8 è 2.\n",
      "Il lcm di 6 e 8 è 24.\n"
     ]
    }
   ],
   "source": [
    "# due numeri interi\n",
    "p = 6\n",
    "q = 8\n",
    "\n",
    "print(f'Il GCD di {p} e {q} è {igcd(p, q)}.')\n",
    "print(f'Il lcm di {p} e {q} è {ilcm(p, q)}.')"
   ]
  },
  {
   "cell_type": "markdown",
   "metadata": {},
   "source": [
    "Se riusciamo a scomporre due polinomi in fattori (vedi sopra), è possibile calcolarne massimo comun divisore e il minimo comune multiplo (consultare un manuale di liceo)."
   ]
  },
  {
   "cell_type": "code",
   "execution_count": 71,
   "metadata": {},
   "outputs": [
    {
     "data": {
      "text/latex": [
       "$\\displaystyle x - 6$"
      ],
      "text/plain": [
       "x - 6"
      ]
     },
     "execution_count": 71,
     "metadata": {},
     "output_type": "execute_result"
    }
   ],
   "source": [
    "gcd(P4, P5, domain=QQ)"
   ]
  },
  {
   "cell_type": "code",
   "execution_count": 72,
   "metadata": {},
   "outputs": [
    {
     "data": {
      "text/latex": [
       "$\\displaystyle x^{2} - 7 x + 6$"
      ],
      "text/plain": [
       "x**2 - 7*x + 6"
      ]
     },
     "execution_count": 72,
     "metadata": {},
     "output_type": "execute_result"
    }
   ],
   "source": [
    "lcm(P4, P5, domain=QQ)"
   ]
  }
 ],
 "metadata": {
  "kernelspec": {
   "display_name": "Python 3",
   "language": "python",
   "name": "python3"
  },
  "language_info": {
   "codemirror_mode": {
    "name": "ipython",
    "version": 3
   },
   "file_extension": ".py",
   "mimetype": "text/x-python",
   "name": "python",
   "nbconvert_exporter": "python",
   "pygments_lexer": "ipython3",
   "version": "3.8.8"
  }
 },
 "nbformat": 4,
 "nbformat_minor": 4
}

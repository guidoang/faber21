{
 "cells": [
  {
   "cell_type": "markdown",
   "metadata": {},
   "source": [
    "(title:calcsimb01)=\n",
    "# Il calcolo simbolico"
   ]
  },
  {
   "cell_type": "markdown",
   "metadata": {},
   "source": [
    "![polinomio](img/polynomials.png \"polinomio\")\n",
    "\n",
    "E' importante lavorare con i simboli, *non* con i soli numeri.\n",
    "\n",
    "In questa lezione vogliamo esaminare le operazioni con i polinomi.\n",
    "In particolare esamineremo:\n",
    " - somma di due polinomi\n",
    " - prodotto di due polinomi\n",
    " - divisione di due polinomi.\n",
    "\n",
    "Carichiamo le librerie necessarie."
   ]
  },
  {
   "cell_type": "code",
   "execution_count": null,
   "metadata": {},
   "outputs": [],
   "source": []
  },
  {
   "cell_type": "code",
   "execution_count": 33,
   "metadata": {},
   "outputs": [],
   "source": [
    "# gli import\n",
    "import math\n",
    "import numpy as np\n",
    "from sympy import *"
   ]
  },
  {
   "cell_type": "markdown",
   "metadata": {},
   "source": [
    "## Gli ingredienti"
   ]
  },
  {
   "cell_type": "code",
   "execution_count": 34,
   "metadata": {},
   "outputs": [],
   "source": [
    "# le variabili che utilizzeremo\n",
    "a, b, x, n = symbols('a, b, x, n')"
   ]
  },
  {
   "cell_type": "code",
   "execution_count": 35,
   "metadata": {},
   "outputs": [],
   "source": [
    "# il primo polinomio (binomio)\n",
    "P1 = 2*a + 3*b\n",
    "P2 = 3*x*x*x + 2*x*x + 5"
   ]
  },
  {
   "cell_type": "markdown",
   "metadata": {},
   "source": [
    "## Prodotto di polinomi"
   ]
  },
  {
   "cell_type": "code",
   "execution_count": 36,
   "metadata": {},
   "outputs": [
    {
     "data": {
      "text/latex": [
       "$\\displaystyle 6 a x^{3} + 4 a x^{2} + 10 a + 9 b x^{3} + 6 b x^{2} + 15 b$"
      ],
      "text/plain": [
       "6*a*x**3 + 4*a*x**2 + 10*a + 9*b*x**3 + 6*b*x**2 + 15*b"
      ]
     },
     "execution_count": 36,
     "metadata": {},
     "output_type": "execute_result"
    }
   ],
   "source": [
    "expand(P1 * P2)"
   ]
  },
  {
   "cell_type": "markdown",
   "metadata": {},
   "source": [
    "## Potenza di un binomio\n",
    "Calcoliamo il quadrato e il cubo di un polinomio."
   ]
  },
  {
   "cell_type": "code",
   "execution_count": 37,
   "metadata": {},
   "outputs": [
    {
     "data": {
      "text/latex": [
       "$\\displaystyle 4 a^{2} + 12 a b + 9 b^{2}$"
      ],
      "text/plain": [
       "4*a**2 + 12*a*b + 9*b**2"
      ]
     },
     "execution_count": 37,
     "metadata": {},
     "output_type": "execute_result"
    }
   ],
   "source": [
    "# il quadrato\n",
    "expand(P1*P1)"
   ]
  },
  {
   "cell_type": "code",
   "execution_count": 38,
   "metadata": {},
   "outputs": [
    {
     "data": {
      "text/latex": [
       "$\\displaystyle 8 a^{3} + 36 a^{2} b + 54 a b^{2} + 27 b^{3}$"
      ],
      "text/plain": [
       "8*a**3 + 36*a**2*b + 54*a*b**2 + 27*b**3"
      ]
     },
     "execution_count": 38,
     "metadata": {},
     "output_type": "execute_result"
    }
   ],
   "source": [
    "# il cubo\n",
    "expand(P1*P1*P1)"
   ]
  },
  {
   "cell_type": "markdown",
   "metadata": {},
   "source": [
    "## Di tutto"
   ]
  },
  {
   "cell_type": "code",
   "execution_count": 39,
   "metadata": {},
   "outputs": [
    {
     "data": {
      "text/latex": [
       "$\\displaystyle a^{3} a^{n} b^{2 n}$"
      ],
      "text/plain": [
       "a**3*a**n*b**(2*n)"
      ]
     },
     "execution_count": 39,
     "metadata": {},
     "output_type": "execute_result"
    }
   ],
   "source": [
    "P3 = a**(n+1)*b**n * a**2*b**n\n",
    "\n",
    "# esegue\n",
    "expand(P3)"
   ]
  },
  {
   "cell_type": "markdown",
   "metadata": {},
   "source": [
    "## Fattorizzazione di un polinomio\n",
    "La fattorizzazione di un polinomio corrisponde, a livello elementare, alle operazioni di raccoglimento dei fattori comuni."
   ]
  },
  {
   "cell_type": "code",
   "execution_count": 40,
   "metadata": {},
   "outputs": [
    {
     "data": {
      "text/latex": [
       "$\\displaystyle 2 x \\left(3 x - 1\\right)$"
      ],
      "text/plain": [
       "2*x*(3*x - 1)"
      ]
     },
     "execution_count": 40,
     "metadata": {},
     "output_type": "execute_result"
    }
   ],
   "source": [
    "# scomposizione\n",
    "factor(6*x*x - 2*x)"
   ]
  },
  {
   "cell_type": "code",
   "execution_count": 41,
   "metadata": {},
   "outputs": [
    {
     "data": {
      "text/latex": [
       "$\\displaystyle 2 x \\left(x + 1\\right) \\left(4 x - 1\\right)$"
      ],
      "text/plain": [
       "2*x*(x + 1)*(4*x - 1)"
      ]
     },
     "execution_count": 41,
     "metadata": {},
     "output_type": "execute_result"
    }
   ],
   "source": [
    "# scomposizione\n",
    "factor(6*x*x - 2*x + 8*x*x*x)"
   ]
  },
  {
   "cell_type": "code",
   "execution_count": 42,
   "metadata": {},
   "outputs": [
    {
     "data": {
      "text/latex": [
       "$\\displaystyle \\left(x - 6\\right) \\left(x - 1\\right)$"
      ],
      "text/plain": [
       "(x - 6)*(x - 1)"
      ]
     },
     "execution_count": 42,
     "metadata": {},
     "output_type": "execute_result"
    }
   ],
   "source": [
    "factor(x*x - 7*x + 6)"
   ]
  },
  {
   "cell_type": "markdown",
   "metadata": {},
   "source": [
    "## Divisione ta polinomi\n",
    "La *divisione* tra polinomi *non* è sempre possibile:\n",
    "Supponiamo di voler effettuare la divisione\n",
    "$$\\frac{P_1}{P_2} $$\n",
    "La divisione è possibile se\n",
    " * il dividendo $P_1$ è di grado *maggiore o uguale* del divisore $P_2$;\n",
    " * esiste un quoziente $Q$;\n",
    " * può esserci un resto $R$.\n",
    "\n",
    "Deve risultare\n",
    "$$ P_1 = Q \\cdot P_2 + R $$"
   ]
  },
  {
   "cell_type": "code",
   "execution_count": 43,
   "metadata": {},
   "outputs": [
    {
     "name": "stdout",
     "output_type": "stream",
     "text": [
      "Il grado di P1 è 2 in x.\n"
     ]
    }
   ],
   "source": [
    "# Esempio\n",
    "P1 = x*x - 7*x + 6\n",
    "\n",
    "grado1 = degree(P1, x)\n",
    "\n",
    "# che è di grado\n",
    "print(f'Il grado di P1 è {grado1} in x.')"
   ]
  },
  {
   "cell_type": "code",
   "execution_count": 44,
   "metadata": {},
   "outputs": [
    {
     "name": "stdout",
     "output_type": "stream",
     "text": [
      "Il grado di P2 è 1 in x.\n"
     ]
    }
   ],
   "source": [
    "P2 = x - 6\n",
    "\n",
    "grado2 = degree(P2, x)\n",
    "\n",
    "# che è di grado\n",
    "print(f'Il grado di P2 è {grado2} in x.')"
   ]
  },
  {
   "cell_type": "code",
   "execution_count": 45,
   "metadata": {},
   "outputs": [
    {
     "data": {
      "text/plain": [
       "(x - 1, 0)"
      ]
     },
     "execution_count": 45,
     "metadata": {},
     "output_type": "execute_result"
    }
   ],
   "source": [
    "# dividiamo\n",
    "div(P1, P2)\n",
    "\n",
    "# il risultato è una coppia (quoziente, resto) "
   ]
  },
  {
   "cell_type": "code",
   "execution_count": 46,
   "metadata": {},
   "outputs": [
    {
     "name": "stdout",
     "output_type": "stream",
     "text": [
      "La divisione di P1 e P2 da x - 1 e resto 0\n"
     ]
    }
   ],
   "source": [
    "# il risultato può essere riscritto\n",
    "result = div(P1, P2)\n",
    "print(f'La divisione di P1 e P2 da {result[0]} e resto {result[1]}')"
   ]
  },
  {
   "cell_type": "code",
   "execution_count": 47,
   "metadata": {},
   "outputs": [],
   "source": [
    "# riproviamo con\n",
    "P1 = x*x - 7*x + 7"
   ]
  },
  {
   "cell_type": "code",
   "execution_count": 48,
   "metadata": {},
   "outputs": [
    {
     "name": "stdout",
     "output_type": "stream",
     "text": [
      "La divisione di P1 e P2 da x - 1 e resto 1\n"
     ]
    }
   ],
   "source": [
    "# la disione risulta\n",
    "result = div(P1, P2)\n",
    "\n",
    "print(f'La divisione di P1 e P2 da {result[0]} e resto {result[1]}')"
   ]
  }
 ],
 "metadata": {
  "kernelspec": {
   "display_name": "Python 3",
   "language": "python",
   "name": "python3"
  },
  "language_info": {
   "codemirror_mode": {
    "name": "ipython",
    "version": 3
   },
   "file_extension": ".py",
   "mimetype": "text/x-python",
   "name": "python",
   "nbconvert_exporter": "python",
   "pygments_lexer": "ipython3",
   "version": "3.8.8"
  }
 },
 "nbformat": 4,
 "nbformat_minor": 4
}

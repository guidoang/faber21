{
 "cells": [
  {
   "cell_type": "markdown",
   "id": "dc0e8d7b",
   "metadata": {},
   "source": [
    "(title:vettori01)=\n",
    "# I vettori, p. 1\n",
    "In fisica uno *scalare* è o un numero o una grandezza che ha semplicemente un valore (espresso da un numero e una unità di misura), ma non una direzione.\n",
    "Esempi di grandezze scalari includono massa, carica elettrica, temperatura, distanza, ecc.\n",
    "\n",
    "Un *vettore*, d'altra parte, è una grandezza caratterizzata da un valore, una direzione e un verso; in più, un vettore rispetta alcune regole algebriche.\n",
    "Esempi di grandezze vettoriali sono spostamento, velocità, accelerazione, forza, ecc.\n",
    "\n",
    "È un concetto piuttosto noto che non esiste una nozione assoluta di posizione o orientamento nello spazio.<br/>\n",
    "In matematica deve essere usato un *sistema di coordinate* per definire posizioni e direzioni.<br/>\n",
    "In fisica lo atesso compito è assegnato al *sistema di riferimento*.\n",
    "Ogni sistema di riferimento ha una *origine*.<br/>\n",
    "È quindi fondamentale notare che le componenti delle grandezze vettoriali differiscono a seconda del sistema di riferimento che un certo osservatore utilizza.\n",
    "\n",
    "Consideriamo due punti $P$ e $Q$ nello spazio. La *distanza* tra questi due punti rimane la stessa indipendentemente dal sistema di riferimento in cui vengono effettuate le misure. La distanza tra due punti è quindi uno scalare.<br/>\n",
    "Le coordinate di ciascuno dei due punti, quindi i loro vettori posizione, sono dipendenti dal sistema di riferimento. Infatti le coordinate hanno senso solo se sono misurate rispetto ad un insieme di corpi, le cui posizioni e orientamento definiscono il sistema di coordinate scelto dal misuratore.\n",
    "\n",
    "## Una libreria\n",
    "Un aiuto per il calcolo vettoriale è offerto dalla libreria *numpy*.\n",
    "\n",
    ":::{note}\n",
    "Esistono librerie avanzate che manipolano specificatamente i vettori.\n",
    ":::\n"
   ]
  },
  {
   "cell_type": "code",
   "execution_count": 1,
   "id": "dc652e0b",
   "metadata": {},
   "outputs": [],
   "source": [
    "# le librerie\n",
    "import numpy as np\n",
    "from math import sqrt\n",
    "# librerie grafici\n",
    "import matplotlib.pyplot as plt\n",
    "import seaborn as sns\n",
    "\n",
    "# una inizializzazione\n",
    "sns.set()"
   ]
  },
  {
   "cell_type": "markdown",
   "id": "7f0f5efc",
   "metadata": {},
   "source": [
    "Definiamo due vetttori $\\vec{a}$ e $\\vec{b}$ tramite le loro *componenti*:\n",
    "\n",
    "$$\n",
    "\\vec{a} = (2, 1) \\qquad \\vec{b} = (-2, 4)\n",
    "$$\n",
    "\n",
    "In Python i vettori si definiscono tramite liste; chiariamo subito con un esempio."
   ]
  },
  {
   "cell_type": "code",
   "execution_count": 2,
   "id": "eeedc83d",
   "metadata": {},
   "outputs": [],
   "source": [
    "ap = [2,  1]\n",
    "bp = [-2, 4]"
   ]
  },
  {
   "cell_type": "markdown",
   "id": "09450681",
   "metadata": {},
   "source": [
    "i numeri tra parentesi quadre, separati da virgola, sono le componenti. Avendo utilizzato sue componenti, siamo nel piano.\n",
    "\n",
    ":::{note}\n",
    "I vettori possono avere due componenti (nel piano), tre componenti (nello spazio) o anche di più.\n",
    "Espressi tramite le componenti, i vettori si indicano (esempio sopra)\n",
    "* con parentesi tonda in matematica;\n",
    "* con parentesi quadra in Python.\n",
    ":::\n",
    "\n",
    "\n",
    "\n",
    "Le liste appena create vanno convertite in array; è solo un particolare tecnico."
   ]
  },
  {
   "cell_type": "code",
   "execution_count": 3,
   "id": "6df753b2",
   "metadata": {},
   "outputs": [],
   "source": [
    "# converte le liste in array\n",
    "a = np.array(ap)\n",
    "b = np.array(bp)"
   ]
  },
  {
   "cell_type": "markdown",
   "id": "df050c16",
   "metadata": {},
   "source": [
    "In Python gli array (*non* le liste) sono indicati con parentesi quadre *senza* virgola."
   ]
  },
  {
   "cell_type": "code",
   "execution_count": 4,
   "id": "b985ec45",
   "metadata": {},
   "outputs": [
    {
     "name": "stdout",
     "output_type": "stream",
     "text": [
      "[2 1] [-2  4]\n"
     ]
    }
   ],
   "source": [
    "# stampa gli array sopra definiti\n",
    "print(a, b)"
   ]
  },
  {
   "cell_type": "markdown",
   "id": "bd38ced9",
   "metadata": {},
   "source": [
    "Occorre stabilire le posizioni delle code dei vettori, tipicamente nell'origine."
   ]
  },
  {
   "cell_type": "code",
   "execution_count": 5,
   "id": "4ffbab45",
   "metadata": {},
   "outputs": [],
   "source": [
    "# l'origine di ciascun vettore.\n",
    "# Il secondo numero è il numero dei vettori\n",
    "origin  = np.zeros((2, 2), dtype=float)\n",
    "origin3 = np.zeros((2, 3), dtype=float)"
   ]
  },
  {
   "cell_type": "markdown",
   "id": "dbfdd7df",
   "metadata": {},
   "source": [
    "E' possibile visualizzare i vettori (in questo caso) nel piano."
   ]
  },
  {
   "cell_type": "code",
   "execution_count": 6,
   "id": "a19fc2c7",
   "metadata": {
    "scrolled": true
   },
   "outputs": [
    {
     "data": {
      "image/png": "[encoded data removed]",
      "text/plain": [
       "<Figure size 268.56x288 with 1 Axes>"
      ]
     },
     "metadata": {},
     "output_type": "display_data"
    }
   ],
   "source": [
    "# N.B. L'unità di misura in figsize è il pollice\n",
    "fig, ax = plt.subplots(1, 1, figsize=(3.73, 4.0))\n",
    "\n",
    "ax.set_xlim(-4, 6)\n",
    "ax.set_ylim(-4, 6)\n",
    "\n",
    "data = np.array((ap, bp))\n",
    "plt.quiver(*origin, data[:, 0], data[:, 1],\n",
    "           scale=1, scale_units='xy', angles = 'xy',\n",
    "           color='b')\n",
    "\n",
    "# label\n",
    "ax.text(0.5*ap[0], 0.5*ap[1]-0.6, r'$\\vec{a}$', fontsize=12)\n",
    "ax.text(0.5*bp[0]-0.9, 0.5*bp[1], r'$\\vec{b}$', fontsize=12)\n",
    "        \n",
    "# Salva la figura PRIMA di mostrarla\n",
    "# plt.savefig('img/vettori01.pdf',format='pdf',dpi=300,bbox_inches=\"tight\",pad_inches=0.02)\n",
    "\n",
    "plt.show()"
   ]
  },
  {
   "cell_type": "markdown",
   "id": "a1f512f4",
   "metadata": {},
   "source": [
    "Un vettore non ha una lunghezza, ha un *modulo*."
   ]
  },
  {
   "cell_type": "markdown",
   "id": "6d48c912",
   "metadata": {},
   "source": [
    "## Modulo\n",
    "Il modulo è la dimensione di un vettore.<br/>\n",
    "Dato nel piano un vettore di componenti\n",
    "$\\vec{v} = (v_x, v_y)$,\n",
    "il modulo $v$ (senza freccia) è\n",
    "\n",
    "$$\n",
    "v = \\sqrt{v_x^2 + v_y^2}\n",
    "$$\n",
    "\n",
    "Nello spazio un vettore di componenti\n",
    "$\\vec{v} = (v_x, v_y, v_z)$,\n",
    "ha modulo $v$ (sempre senza freccia)\n",
    "\n",
    "$$\n",
    "v = \\sqrt{v_x^2 + v_y^2  + v_z^2}\n",
    "$$\n",
    "\n",
    "Per i nostri esempi abbiamo"
   ]
  },
  {
   "cell_type": "code",
   "execution_count": 7,
   "id": "7bcc1930",
   "metadata": {},
   "outputs": [
    {
     "name": "stdout",
     "output_type": "stream",
     "text": [
      "La lunghezza di a è 2.24\n",
      "La lunghezza di b è 4.47\n"
     ]
    }
   ],
   "source": [
    "print(f'La lunghezza di a è {sqrt(a[0]*a[0]+a[1]*a[1] ):.2f}')\n",
    "print(f'La lunghezza di b è {sqrt(b[0]*b[0]+b[1]*b[1] ):.2f}')"
   ]
  }
 ],
 "metadata": {
  "kernelspec": {
   "display_name": "Python 3",
   "language": "python",
   "name": "python3"
  },
  "language_info": {
   "codemirror_mode": {
    "name": "ipython",
    "version": 3
   },
   "file_extension": ".py",
   "mimetype": "text/x-python",
   "name": "python",
   "nbconvert_exporter": "python",
   "pygments_lexer": "ipython3",
   "version": "3.8.8"
  }
 },
 "nbformat": 4,
 "nbformat_minor": 5
}

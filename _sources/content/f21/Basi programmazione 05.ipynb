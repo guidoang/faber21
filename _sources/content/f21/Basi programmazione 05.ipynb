{
 "cells": [
  {
   "cell_type": "markdown",
   "metadata": {},
   "source": [
    "# I calcoli dinamici, p. 2"
   ]
  },
  {
   "cell_type": "markdown",
   "metadata": {},
   "source": [
    "![polinomio](img/polynomials.png \"polinomio\")\n",
    "\n",
    "Proviamo a realizzare una piccola applicazione di matematica.\n",
    "\n",
    "Carichiamo le librerie necessarie."
   ]
  },
  {
   "cell_type": "code",
   "execution_count": 1,
   "metadata": {},
   "outputs": [],
   "source": [
    "# gli import\n",
    "import math\n",
    "import numpy as np\n",
    "from sympy import *\n",
    "import matplotlib.pyplot as plt\n",
    "# la interfaccia\n",
    "import ipywidgets as widgets\n",
    "from ipywidgets import interact, interactive, HBox"
   ]
  },
  {
   "cell_type": "markdown",
   "metadata": {},
   "source": [
    "## Gli ingredienti\n",
    "Come al solito, prima di utilizzare il calcolo letterale, occorre dire al notebook quali sono i simboli che vogliamo utilizzare e le variabili corrispondenti nel programma."
   ]
  },
  {
   "cell_type": "code",
   "execution_count": 2,
   "metadata": {},
   "outputs": [],
   "source": [
    "# le variabili che utilizzeremo\n",
    "# a, b, x = symbols('a, b, x')"
   ]
  },
  {
   "cell_type": "markdown",
   "metadata": {},
   "source": [
    "# L'interfaccia"
   ]
  },
  {
   "cell_type": "code",
   "execution_count": 3,
   "metadata": {},
   "outputs": [
    {
     "data": {
      "application/vnd.jupyter.widget-view+json": {
       "model_id": "6b3398f759994fd89c4815176a762f7e",
       "version_major": 2,
       "version_minor": 0
      },
      "text/plain": [
       "HBox(children=(IntSlider(value=1, description='$m$', max=10), IntSlider(value=0, description='y-intercetta $q$…"
      ]
     },
     "metadata": {},
     "output_type": "display_data"
    },
    {
     "data": {
      "application/vnd.jupyter.widget-view+json": {
       "model_id": "3d4464191fe84b69a35f8a844adc9331",
       "version_major": 2,
       "version_minor": 0
      },
      "text/plain": [
       "Dropdown(description='colore', options=(('nero', 'black'), ('blu', 'blue')), value='black')"
      ]
     },
     "metadata": {},
     "output_type": "display_data"
    },
    {
     "data": {
      "application/vnd.jupyter.widget-view+json": {
       "model_id": "991e728aea84430ca5c245ab2680bf0a",
       "version_major": 2,
       "version_minor": 0
      },
      "text/plain": [
       "Output()"
      ]
     },
     "metadata": {},
     "output_type": "display_data"
    }
   ],
   "source": [
    "def myplot(m, q, col):\n",
    "    x = np.arange(0, 10, 1)\n",
    "    y = m*x + q\n",
    "    \n",
    "    # traccia il plot\n",
    "    fig, ax = plt.subplots(1, 1, figsize=(4.0,3))\n",
    "    # Assi e tichette\n",
    "    ax.set_xlim(0, 10)\n",
    "    ax.set_title('Retta nel piano')\n",
    "    ax.set_xlabel('x')\n",
    "    ax.set_ylim(-2, 10)\n",
    "    ax.set_ylabel('y')\n",
    "\n",
    "    ax.plot(x,y, color=col)\n",
    "    plt.show()\n",
    "\n",
    "    \n",
    "m   = widgets.IntSlider(value=1, min=0,  max=10, step=1, description='$m$')\n",
    "q   = widgets.IntSlider(value=0, min=-5, max=5,  step=1, description='y-intercetta $q$')\n",
    "col = widgets.Dropdown(options=[('nero', 'black'), ('blu', 'blue')],\n",
    "                       description='colore')\n",
    "\n",
    "ui = widgets.HBox([m, q])\n",
    "\n",
    "out = widgets.interactive_output(myplot, {'m': m, 'q': q, 'col': col})\n",
    "\n",
    "display(ui, col, out)"
   ]
  }
 ],
 "metadata": {
  "kernelspec": {
   "display_name": "Python 3",
   "language": "python",
   "name": "python3"
  },
  "language_info": {
   "codemirror_mode": {
    "name": "ipython",
    "version": 3
   },
   "file_extension": ".py",
   "mimetype": "text/x-python",
   "name": "python",
   "nbconvert_exporter": "python",
   "pygments_lexer": "ipython3",
   "version": "3.8.8"
  }
 },
 "nbformat": 4,
 "nbformat_minor": 4
}

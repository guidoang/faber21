{
 "cells": [
  {
   "cell_type": "markdown",
   "metadata": {},
   "source": [
    "# I calcoli dinamici, p. 3"
   ]
  },
  {
   "cell_type": "markdown",
   "metadata": {},
   "source": [
    "![polinomio](img/polynomials.png \"polinomio\")\n",
    "\n",
    "Spesso è utile effettuare calcoli facendo variare un parametro.\n",
    "\n",
    "Carichiamo le librerie necessarie."
   ]
  },
  {
   "cell_type": "code",
   "execution_count": 1,
   "metadata": {},
   "outputs": [],
   "source": [
    "# gli import\n",
    "import math\n",
    "import numpy as np\n",
    "from sympy import *\n",
    "import matplotlib.pyplot as plt\n",
    "# la interfaccia\n",
    "import ipywidgets as widgets\n",
    "from ipywidgets import interactive_output, IntSlider, Text, VBox"
   ]
  },
  {
   "cell_type": "markdown",
   "metadata": {},
   "source": [
    "## Gli ingredienti\n",
    "Dichiarare *tutti* i simboli e le corrispondenti variabili."
   ]
  },
  {
   "cell_type": "code",
   "execution_count": 2,
   "metadata": {},
   "outputs": [],
   "source": [
    "# le variabili che utilizzeremo\n",
    "a, b, x = symbols('a, b, x')"
   ]
  },
  {
   "cell_type": "code",
   "execution_count": 3,
   "metadata": {},
   "outputs": [],
   "source": [
    "# un polinomio (binomio)\n",
    "P1 = a + b"
   ]
  },
  {
   "cell_type": "markdown",
   "metadata": {},
   "source": [
    "## Potenze di un binomio\n",
    "Per calcolare le potenze successive di un binomio\n",
    "\n",
    "$$(a+b)^n$$\n",
    "\n",
    "(con $n$ intero positivo) occorre utilizzare i cosiddetti coefficienti binomiali.\n",
    "In primo liceo questi coefficienti si trovano tramite il *triangolo di Tartaglia*.\n",
    "\n",
    "Imparato il metodo, la potenza di un binomio può essere valutata più facilmente con le librerie di calcolo simbolico."
   ]
  },
  {
   "cell_type": "code",
   "execution_count": 4,
   "metadata": {},
   "outputs": [
    {
     "data": {
      "application/vnd.jupyter.widget-view+json": {
       "model_id": "570e4769804242e9a9e92d4036cf4329",
       "version_major": 2,
       "version_minor": 0
      },
      "text/plain": [
       "IntSlider(value=1, continuous_update=False, description='Potenza $n$', max=10)"
      ]
     },
     "metadata": {},
     "output_type": "display_data"
    },
    {
     "data": {
      "application/vnd.jupyter.widget-view+json": {
       "model_id": "0b8df95fc06d45138780e793c944d980",
       "version_major": 2,
       "version_minor": 0
      },
      "text/plain": [
       "Text(value='a + b', continuous_update=False, description='Risultato', disabled=True)"
      ]
     },
     "metadata": {},
     "output_type": "display_data"
    },
    {
     "data": {
      "application/vnd.jupyter.widget-view+json": {
       "model_id": "a8cdc32421684cd48c6961071db6ee8f",
       "version_major": 2,
       "version_minor": 0
      },
      "text/plain": [
       "Text(value='[1, 1]', continuous_update=False, description='Coefficienti', disabled=True)"
      ]
     },
     "metadata": {},
     "output_type": "display_data"
    },
    {
     "data": {
      "application/vnd.jupyter.widget-view+json": {
       "model_id": "564c82b556924748a7962d5174721faf",
       "version_major": 2,
       "version_minor": 0
      },
      "text/plain": [
       "Output()"
      ]
     },
     "metadata": {},
     "output_type": "display_data"
    }
   ],
   "source": [
    "# la n-esima potenza del binomio\n",
    "def coefflist(n):\n",
    "    # mostra il risultato\n",
    "    r.value = f'{expand(P1**n)}'\n",
    "    \n",
    "    # calcola i coefficienti binomiali\n",
    "    poss = range(0, n+1, 1)\n",
    "    coefflist = []\n",
    "    for i in poss:\n",
    "        coefflist.append(math.comb(n, i))\n",
    "    c.value = f'{coefflist}'\n",
    "\n",
    "    # traccia il plot\n",
    "    fig, ax = plt.subplots(1, 1, figsize=(4.0,3))\n",
    "    # Assi e tichette\n",
    "    ax.set_xlim(0, 10)\n",
    "    ax.set_title('Coefficienti binomiali')\n",
    "    ax.set_xlabel('coefficienti')\n",
    "    if n < 6 : ax.set_ylim(0, 20)\n",
    "    else: ax.set_ylim(0, 252)\n",
    "    ax.set_ylabel('pesi %')\n",
    "\n",
    "    ax.plot(poss, coefflist, color='blue')\n",
    "    plt.show()\n",
    "\n",
    "    return\n",
    "\n",
    "n = widgets.IntSlider(value=1,\n",
    "                      min=0, max=10, step=1,\n",
    "                      description='Potenza $n$',\n",
    "                      disabled=False,\n",
    "                      continuous_update=False,\n",
    "                      orientation='horizontal',\n",
    "                      readout=True,\n",
    "                      readout_format='d')\n",
    "\n",
    "r = widgets.Text(value='',\n",
    "                 description='Risultato',\n",
    "                 disabled=True,\n",
    "                 continuous_update=False,\n",
    "                 readout=True)\n",
    "\n",
    "c = widgets.Text(value='',\n",
    "                 description='Coefficienti',\n",
    "                 disabled=True,\n",
    "                 continuous_update=False,\n",
    "                 readout=True)\n",
    "\n",
    "ui = widgets.VBox([n, r, c])\n",
    "\n",
    "out = widgets.interactive_output(coefflist, {'n': n})\n",
    "\n",
    "display(n, r, c, out)"
   ]
  },
  {
   "cell_type": "markdown",
   "metadata": {},
   "source": [
    "### La curva a campana\n",
    "Osservando il grafico sopra al variare di $n$, ci accorgiam che l'andamento dei coefficienti binomiali si avvicina sempre di più, al crescere di $n$, alla curva a campana, o *gaussiana*."
   ]
  },
  {
   "cell_type": "code",
   "execution_count": null,
   "metadata": {},
   "outputs": [],
   "source": []
  }
 ],
 "metadata": {
  "kernelspec": {
   "display_name": "Python 3",
   "language": "python",
   "name": "python3"
  },
  "language_info": {
   "codemirror_mode": {
    "name": "ipython",
    "version": 3
   },
   "file_extension": ".py",
   "mimetype": "text/x-python",
   "name": "python",
   "nbconvert_exporter": "python",
   "pygments_lexer": "ipython3",
   "version": "3.8.8"
  }
 },
 "nbformat": 4,
 "nbformat_minor": 4
}

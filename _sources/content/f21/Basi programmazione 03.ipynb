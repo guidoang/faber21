{
 "cells": [
  {
   "cell_type": "markdown",
   "metadata": {},
   "source": [
    "# I calcoli dinamici, p. 1"
   ]
  },
  {
   "cell_type": "markdown",
   "metadata": {},
   "source": [
    "![polinomio](img/polynomials.png \"polinomio\")\n",
    "\n",
    "Spesso è utile effettuare calcoli facendo variare un parametro.\n",
    "\n",
    "Carichiamo le librerie necessarie."
   ]
  },
  {
   "cell_type": "code",
   "execution_count": 1,
   "metadata": {},
   "outputs": [],
   "source": [
    "# gli import\n",
    "import math\n",
    "import numpy as np\n",
    "from sympy import *\n",
    "import ipywidgets as widgets\n",
    "from ipywidgets import interact"
   ]
  },
  {
   "cell_type": "markdown",
   "metadata": {},
   "source": [
    "## Gli ingredienti\n",
    "Prima di utilizzare il calcolo letterale, occorre dire al notebook quali sono i simboli che vogliamo utilizzare e le variabili corrispondenti nel programma.\n",
    "\n",
    "Occorre dichiarare *tutti* i simboli e le corrispondenti variabili."
   ]
  },
  {
   "cell_type": "code",
   "execution_count": 2,
   "metadata": {},
   "outputs": [],
   "source": [
    "# le variabili che utilizzeremo\n",
    "a, b, x = symbols('a, b, x')"
   ]
  },
  {
   "cell_type": "code",
   "execution_count": 3,
   "metadata": {},
   "outputs": [],
   "source": [
    "# un polinomio (binomio)\n",
    "P1 = 2*a + 3*b"
   ]
  },
  {
   "cell_type": "markdown",
   "metadata": {},
   "source": [
    "## Potenze successive\n",
    "Si possono calcolare le potenze successive di un binomio.\n",
    "Calcoliamo il quadrato, il cubo e così via di un polinomio.\n",
    "\n",
    "Per utilizzare un diverso polinomio, *non* modificare il codice sotto, basta cambiare la definizione del polinomio sopra."
   ]
  },
  {
   "cell_type": "code",
   "execution_count": 4,
   "metadata": {},
   "outputs": [
    {
     "data": {
      "application/vnd.jupyter.widget-view+json": {
       "model_id": "53b7eae3dbea48a285195afc8d718900",
       "version_major": 2,
       "version_minor": 0
      },
      "text/plain": [
       "interactive(children=(IntSlider(value=1, continuous_update=False, description='Test:', max=10), Output()), _do…"
      ]
     },
     "metadata": {},
     "output_type": "display_data"
    },
    {
     "data": {
      "text/plain": [
       "<function __main__.f(n)>"
      ]
     },
     "execution_count": 4,
     "metadata": {},
     "output_type": "execute_result"
    }
   ],
   "source": [
    "# la funzione che calcola\n",
    "def f(n):\n",
    "    return expand(P1**n)\n",
    "\n",
    "interact(f, \n",
    "         n = widgets.IntSlider(value=1,\n",
    "                               min=0, max=10, step=1,\n",
    "                               description='Test:',\n",
    "                               disabled=False,\n",
    "                               continuous_update=False,\n",
    "                               orientation='horizontal',\n",
    "                               readout=True,\n",
    "                               readout_format='d')\n",
    "        )"
   ]
  },
  {
   "cell_type": "markdown",
   "metadata": {},
   "source": [
    "## Cosa facciamo?"
   ]
  },
  {
   "cell_type": "code",
   "execution_count": 5,
   "metadata": {},
   "outputs": [
    {
     "data": {
      "application/vnd.jupyter.widget-view+json": {
       "model_id": "ed60e86c6e8842759eca56bbbb0992dc",
       "version_major": 2,
       "version_minor": 0
      },
      "text/plain": [
       "interactive(children=(Dropdown(description='Azione', options=('Andiamo a casa', 'Andiamo al Mac', 'Programmiam…"
      ]
     },
     "metadata": {},
     "output_type": "display_data"
    },
    {
     "data": {
      "text/plain": [
       "<function __main__.g(p)>"
      ]
     },
     "execution_count": 5,
     "metadata": {},
     "output_type": "execute_result"
    }
   ],
   "source": [
    "def g(p):\n",
    "    return p\n",
    "\n",
    "interact(g,\n",
    "         p = widgets.Dropdown(options=['Andiamo a casa',\n",
    "                                       'Andiamo al Mac',\n",
    "                                       'Programmiamo'],\n",
    "                              description='Azione')\n",
    "        )"
   ]
  },
  {
   "cell_type": "markdown",
   "metadata": {},
   "source": [
    "## Quando lo facciamo?"
   ]
  },
  {
   "cell_type": "code",
   "execution_count": 6,
   "metadata": {},
   "outputs": [
    {
     "data": {
      "application/vnd.jupyter.widget-view+json": {
       "model_id": "8f041f5bd50f4efbbd88b5b41bba915e",
       "version_major": 2,
       "version_minor": 0
      },
      "text/plain": [
       "interactive(children=(DatePicker(value=None, description='Scegli una data'), Output()), _dom_classes=('widget-…"
      ]
     },
     "metadata": {},
     "output_type": "display_data"
    },
    {
     "data": {
      "text/plain": [
       "<function __main__.h(q)>"
      ]
     },
     "execution_count": 6,
     "metadata": {},
     "output_type": "execute_result"
    }
   ],
   "source": [
    "def h(q):\n",
    "    return q\n",
    "\n",
    "interact(h,\n",
    "         q = widgets.DatePicker(description='Scegli una data',\n",
    "                                disabled=False)\n",
    "        )"
   ]
  },
  {
   "cell_type": "code",
   "execution_count": null,
   "metadata": {},
   "outputs": [],
   "source": []
  }
 ],
 "metadata": {
  "kernelspec": {
   "display_name": "Python 3",
   "language": "python",
   "name": "python3"
  },
  "language_info": {
   "codemirror_mode": {
    "name": "ipython",
    "version": 3
   },
   "file_extension": ".py",
   "mimetype": "text/x-python",
   "name": "python",
   "nbconvert_exporter": "python",
   "pygments_lexer": "ipython3",
   "version": "3.8.8"
  }
 },
 "nbformat": 4,
 "nbformat_minor": 4
}

{
 "cells": [
  {
   "cell_type": "markdown",
   "id": "dc0e8d7b",
   "metadata": {},
   "source": [
    "# I vettori, p. 2\n",
    "Vediamo alcune operazione definibili tra vettori o tra numeri (scalari) e vettori.\n",
    "\n",
    "## Una libreria\n",
    "L'aiuto per il calcolo vettoriale offerto dalla libreria *numpy*."
   ]
  },
  {
   "cell_type": "code",
   "execution_count": 1,
   "id": "dc652e0b",
   "metadata": {},
   "outputs": [],
   "source": [
    "# le librerie\n",
    "import numpy as np\n",
    "from math import sqrt\n",
    "# librerie grafici\n",
    "import matplotlib.pyplot as plt\n",
    "import seaborn as sns\n",
    "\n",
    "# una inizializzazione\n",
    "sns.set()"
   ]
  },
  {
   "cell_type": "markdown",
   "id": "7f0f5efc",
   "metadata": {},
   "source": [
    "Definiamo due vetttori $\\vec{a}$ e $\\vec{b}$ tramite le loro *componenti*:\n",
    "\n",
    "$$\n",
    "\\vec{a} = (2, 1) \\qquad \\vec{b} = (-2, 4)\n",
    "$$\n",
    "\n",
    "In Python questi vettori si definiscono tramite liste."
   ]
  },
  {
   "cell_type": "code",
   "execution_count": 2,
   "id": "eeedc83d",
   "metadata": {},
   "outputs": [],
   "source": [
    "ap = [2,  1]\n",
    "bp = [-2, 4]"
   ]
  },
  {
   "cell_type": "markdown",
   "id": "09450681",
   "metadata": {},
   "source": [
    "Le liste appena create vanno convertite in array."
   ]
  },
  {
   "cell_type": "code",
   "execution_count": 3,
   "id": "b985ec45",
   "metadata": {},
   "outputs": [],
   "source": [
    "# converte in liste (array)\n",
    "a = np.array(ap)\n",
    "b = np.array(bp)"
   ]
  },
  {
   "cell_type": "markdown",
   "id": "bd38ced9",
   "metadata": {},
   "source": [
    "Occorre stabilire le posizioni delle code dei vettori, tipicamente nell'origine."
   ]
  },
  {
   "cell_type": "code",
   "execution_count": 4,
   "id": "4ffbab45",
   "metadata": {},
   "outputs": [],
   "source": [
    "# l'origine di ciascun vettore.\n",
    "# Il sendo numero è il numero dei vettori\n",
    "origin  = np.zeros((2, 2), dtype=float)\n",
    "origin3 = np.zeros((2, 3), dtype=float)"
   ]
  },
  {
   "cell_type": "markdown",
   "id": "2e301aad",
   "metadata": {},
   "source": [
    "Altre informazioni sono state date nella [lezione precedente](title:vettori01)"
   ]
  },
  {
   "cell_type": "markdown",
   "id": "31e33bc7",
   "metadata": {},
   "source": [
    "## Addizione e sottrazione\n",
    "Algebricamente addizione e sottrazione si svolgono sommando o sottraendo le coordinate corrispondenti."
   ]
  },
  {
   "cell_type": "code",
   "execution_count": 5,
   "id": "af18927c",
   "metadata": {},
   "outputs": [
    {
     "name": "stdout",
     "output_type": "stream",
     "text": [
      "La somma dei vettori è [0 5], la differenza è [ 4 -3]\n"
     ]
    }
   ],
   "source": [
    "print(f'La somma dei vettori è {a + b}, la differenza è {a - b}')"
   ]
  },
  {
   "cell_type": "markdown",
   "id": "184be02f",
   "metadata": {},
   "source": [
    "Graficamente addizione esottrazione si ottengono con il metodo del parallelogramma. Con questo metodo i due vettori addendi vengono uniti per le code a formare due lati adiacenti di un parallelogramma."
   ]
  },
  {
   "cell_type": "code",
   "execution_count": 6,
   "id": "1e48636f",
   "metadata": {},
   "outputs": [
    {
     "data": {
      "image/png": "[encoded data removed]",
      "text/plain": [
       "<Figure size 540x288 with 2 Axes>"
      ]
     },
     "metadata": {},
     "output_type": "display_data"
    }
   ],
   "source": [
    "# N.B. L'unità di misura in figsize è il pollice\n",
    "fig, ax = plt.subplots(1, 2, figsize=(7.5, 4.0))\n",
    "\n",
    "ax[0].set_xlim(-4, 6)\n",
    "ax[0].set_ylim(-4, 6)\n",
    "ax[1].set_xlim(-4, 6)\n",
    "ax[1].set_ylim(-4, 6)\n",
    "\n",
    "# le due figure\n",
    "ax[0].quiver(*origin3,\n",
    "             [a[0], b[0], a[0]+b[0]],\n",
    "             [a[1], b[1], a[1]+b[1]],\n",
    "             scale=1, scale_units='xy', angles = 'xy',\n",
    "             color='b')\n",
    "\n",
    "ax[1].quiver(*origin3,\n",
    "             [a[0], b[0], a[0]-b[0]],\n",
    "             [a[1], b[1], a[1]-b[1]],\n",
    "             scale=1, scale_units='xy', angles = 'xy',\n",
    "             color='b')\n",
    "\n",
    "# label\n",
    "ax[0].text(0.5*ap[0], 0.5*ap[1]-0.6, r'$\\vec{a}$', fontsize=12)\n",
    "ax[0].text(0.5*bp[0]-0.9, 0.5*bp[1], r'$\\vec{b}$', fontsize=12)\n",
    "ax[0].text(0.5*(ap[0]+bp[0])+0.2, 0.5*(ap[1]+bp[1]),\n",
    "           r'$\\vec{a}+\\vec{b}$',\n",
    "           fontsize=12, horizontalalignment='left')\n",
    "#\n",
    "ax[1].text(0.5*ap[0], 0.5*ap[1]-0.6, r'$\\vec{a}$', fontsize=12)\n",
    "ax[1].text(0.5*bp[0]-0.9, 0.5*bp[1], r'$\\vec{b}$', fontsize=12)\n",
    "ax[1].text(0.5*(ap[0]-bp[0])+0.2, 0.5*(ap[1]-bp[1]),\n",
    "           r'$\\vec{a}-\\vec{b}$',\n",
    "           fontsize=12, horizontalalignment='left')\n",
    "\n",
    "# Salva la figura PRIMA di mostrarla\n",
    "# plt.savefig('img/vettori01.pdf',format='pdf',dpi=300,bbox_inches=\"tight\",pad_inches=0.02)\n",
    "\n",
    "plt.show()"
   ]
  },
  {
   "cell_type": "markdown",
   "id": "be0d2b94",
   "metadata": {},
   "source": [
    "## Prodotto per uno scalare\n",
    "E' il prodotto di un vettore per un numero (detto scalare).\n",
    "\n",
    ":::{note}\n",
    "Come abbiamo visto nella lezione precedente, le grandezze fisiche possono dividersi in (almeno):\n",
    "* scalari, espresse da un numero (e un'unità di misura);\n",
    "* vettoriali, se sono descritte da un vettore.\n",
    ":::\n",
    "\n",
    "Vediamo un esempio."
   ]
  },
  {
   "cell_type": "code",
   "execution_count": 7,
   "id": "47415c7f",
   "metadata": {
    "scrolled": true
   },
   "outputs": [
    {
     "name": "stdout",
     "output_type": "stream",
     "text": [
      "Il prodotto 3a è [6 3]\n"
     ]
    }
   ],
   "source": [
    "print(f'Il prodotto 3a è {3*a}')"
   ]
  },
  {
   "cell_type": "code",
   "execution_count": 8,
   "id": "4d2be886",
   "metadata": {},
   "outputs": [
    {
     "name": "stdout",
     "output_type": "stream",
     "text": [
      "Il prodotto 4b è [-8 16]\n"
     ]
    }
   ],
   "source": [
    "print(f'Il prodotto 4b è {4*b}')"
   ]
  },
  {
   "cell_type": "markdown",
   "id": "b4fa8545",
   "metadata": {},
   "source": [
    "## Combinazione lineare\n",
    "Una *combinazione lineare* dei vettori $\\vec{a}$ e $\\vec{b}$ è un'operazione composta:\n",
    "* il vettore $\\vec{a}$ è moltiplicato per uno scalare;\n",
    "* il vettore $\\vec{b}$ è moltiplicato per un altro scalare;\n",
    "* si sommano i due risultati.\n",
    "\n",
    "Come esempio prendiamo\n",
    "\n",
    "$$\n",
    "3a + 4b\n",
    "$$\n"
   ]
  },
  {
   "cell_type": "code",
   "execution_count": 9,
   "id": "54d0b397",
   "metadata": {},
   "outputs": [
    {
     "name": "stdout",
     "output_type": "stream",
     "text": [
      "La combinazione lineare vale [-2 19]\n"
     ]
    }
   ],
   "source": [
    "print(f'La combinazione lineare vale {3*a+4*b}')"
   ]
  },
  {
   "cell_type": "markdown",
   "id": "b1bdb54c",
   "metadata": {},
   "source": [
    "## Scomposizione\n",
    "Supponismo di avere un vettore $\\vec{v}$ di componenti\n",
    "\n",
    "$$\\vec{v} = (3, 4)$$\n",
    "\n",
    "e di volerlo esprimere come combinazione lineare di $\\vec{a}$ e $\\vec{b}$\n",
    "\n",
    "$$\\vec{v} = x \\vec{a}+ y \\vec{b}$$\n",
    "\n",
    "con $x$ e $y$ da determinare.\n",
    "In altri termini, conosciamo i vettori nella combinazione lineare, dobbiamo trovare le grandezze scalari.\n"
   ]
  },
  {
   "cell_type": "markdown",
   "id": "9b74e05f",
   "metadata": {},
   "source": [
    "Risulta\n",
    "\n",
    "$$\n",
    "x = 2 \\quad y = \\frac{1}{2}\n",
    "$$\n",
    "\n",
    "e\n",
    "\n",
    "$$\n",
    "\\vec{v} = 2 \\vec{a}+ \\frac{1}{2} \\vec{b} \n",
    "$$\n"
   ]
  },
  {
   "cell_type": "markdown",
   "id": "c608da91",
   "metadata": {},
   "source": [
    "## Prodotto scalare\n",
    "E' meglio conosciuto come *dot product*.<br/>\n",
    "Il risultato di un dot product è uno scalare, un numero.\n",
    "\n",
    "Con i vettori $\\vec{a}$ e $\\vec{b}$, il prodotto scalare si scrive\n",
    "\n",
    "$$\n",
    "\\vec{a} \\cdot \\vec{b}\n",
    "$$\n"
   ]
  },
  {
   "cell_type": "code",
   "execution_count": 10,
   "id": "6e576ae1",
   "metadata": {},
   "outputs": [
    {
     "name": "stdout",
     "output_type": "stream",
     "text": [
      "Il prodotto scalare vale 0.\n"
     ]
    }
   ],
   "source": [
    "print(f'Il prodotto scalare vale {np.dot(a, b)}.')"
   ]
  },
  {
   "cell_type": "markdown",
   "id": "f12a43c2",
   "metadata": {},
   "source": [
    "Il dot product ci può dare informazioni sull'angolo $\\theta$ formato dai due vettori; infatti\n",
    "\n",
    "$$\n",
    "\\vec{a} \\cdot \\vec{b} = a \\cdot b \\cdot \\cos \\Theta\n",
    "$$\n",
    "\n",
    "In particolare, se\n",
    "\n",
    "$$\n",
    "\\vec{a} \\cdot \\vec{b} = 0\n",
    "$$\n",
    "\n",
    "i due vettori sono *perpendicolari*.\n",
    "\n"
   ]
  },
  {
   "cell_type": "code",
   "execution_count": null,
   "id": "68ae77d3",
   "metadata": {},
   "outputs": [],
   "source": []
  }
 ],
 "metadata": {
  "kernelspec": {
   "display_name": "Python 3",
   "language": "python",
   "name": "python3"
  },
  "language_info": {
   "codemirror_mode": {
    "name": "ipython",
    "version": 3
   },
   "file_extension": ".py",
   "mimetype": "text/x-python",
   "name": "python",
   "nbconvert_exporter": "python",
   "pygments_lexer": "ipython3",
   "version": "3.8.8"
  }
 },
 "nbformat": 4,
 "nbformat_minor": 5
}

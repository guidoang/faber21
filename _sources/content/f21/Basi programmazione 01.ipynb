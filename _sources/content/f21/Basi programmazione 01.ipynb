{
 "cells": [
  {
   "cell_type": "markdown",
   "metadata": {
    "slideshow": {
     "slide_type": "slide"
    }
   },
   "source": [
    "(title:basi01)=\n",
    "# La prima lezione\n",
    "![browser](img/browser.png \"il mio browser\")\n",
    "\n",
    "In questa lezione vedremo le *basi* della programmazione."
   ]
  },
  {
   "cell_type": "markdown",
   "metadata": {
    "slideshow": {
     "slide_type": "slide"
    }
   },
   "source": [
    "## I programmi\n",
    "Un *programma* è un algoritmo, cioé una serie finita di istruzioni destinata a svolgere un determinato compito.\n",
    "Una applicazione è un programma che viene eseguito su un computer; il programma deve essere *compilato*, cioè tradotto in istruzioni in binario comprensibile al computer.\n",
    "\n",
    "Il programma va scritto, cioè va scritta la sequenza di istruzioni che lo costituisce.\n",
    "Le istruzioni vanno scritte in un *linguaggio di programmazione*.\n",
    "\n",
    "In questa occasione usiamo Python 3."
   ]
  },
  {
   "cell_type": "markdown",
   "metadata": {
    "slideshow": {
     "slide_type": "subslide"
    }
   },
   "source": [
    "Un linguaggio di programmazione:\n",
    "* ha delle parole chiave,\n",
    "* usa le *variabili*,\n",
    "* usa *funzioni* precostituite e raccolte in librerie,\n",
    "* definisce nuove funzioni.\n",
    "\n",
    "Le librerie di funzioni *già disponibili* sono caricate all'inizio del programma."
   ]
  },
  {
   "cell_type": "code",
   "execution_count": 1,
   "metadata": {
    "slideshow": {
     "slide_type": "-"
    }
   },
   "outputs": [],
   "source": [
    "# gli import\n",
    "import math\n",
    "import numpy as np"
   ]
  },
  {
   "cell_type": "markdown",
   "metadata": {
    "slideshow": {
     "slide_type": "slide"
    }
   },
   "source": [
    "## Variabili\n",
    "Innanzitutto trattiamo le variabili.\n",
    "Possono essere\n",
    "* numeri,\n",
    "* stringhe,\n",
    "* array.\n",
    "\n",
    "Le variabili spesso sono indicate da una lettera, ma dovrebbero avere nomi *brevi* e *significativi*.\n",
    "\n",
    "Le lettere maiuscele indicano variabili *diverse* da quelle minuscole."
   ]
  },
  {
   "cell_type": "markdown",
   "metadata": {
    "slideshow": {
     "slide_type": "subslide"
    }
   },
   "source": [
    "### Variabili numeriche\n",
    "Le variabili numeriche possono essere:\n",
    "* intere,\n",
    "* decimali, cioè con il punto.\n",
    "\n",
    "Non è possibile scrivere frazioni, come $\\left( \\dfrac{2}{3} \\right)$. E' possibile *definire* frazioni.\n",
    "\n",
    "Con le variabili numeriche possiamo eseguire le normali operazioni."
   ]
  },
  {
   "cell_type": "code",
   "execution_count": 2,
   "metadata": {
    "slideshow": {
     "slide_type": "subslide"
    }
   },
   "outputs": [],
   "source": [
    "# definisco due variabili numeriche\n",
    "a = 3\n",
    "b = 5"
   ]
  },
  {
   "cell_type": "code",
   "execution_count": 3,
   "metadata": {},
   "outputs": [
    {
     "name": "stdout",
     "output_type": "stream",
     "text": [
      "La operazione svolta è 3+5 = 8\n"
     ]
    }
   ],
   "source": [
    "# svolgiamo un'operazione\n",
    "c = a+b\n",
    "print(f'La operazione svolta è {a}+{b} = {c}')"
   ]
  },
  {
   "cell_type": "code",
   "execution_count": 4,
   "metadata": {},
   "outputs": [
    {
     "name": "stdout",
     "output_type": "stream",
     "text": [
      "La operazione svolta è 3+5 = 8\n"
     ]
    }
   ],
   "source": [
    "# attenzione alla differenza\n",
    "print(f'La operazione svolta è {a}+{b} = {a+b}')"
   ]
  },
  {
   "cell_type": "markdown",
   "metadata": {
    "slideshow": {
     "slide_type": "subslide"
    }
   },
   "source": [
    "### Variabili decimali\n",
    "Il nome corretto è *floating point number*."
   ]
  },
  {
   "cell_type": "code",
   "execution_count": 5,
   "metadata": {},
   "outputs": [
    {
     "name": "stdout",
     "output_type": "stream",
     "text": [
      "La radice quadrata di 5.28 è 2.30.\n",
      " Verifichiamo, 2.30 x 2.30 = 5.28\n"
     ]
    }
   ],
   "source": [
    "# operazioni con i decimali\n",
    "m = 5.28\n",
    "n = math.sqrt(m)\n",
    "p = n*n\n",
    "\n",
    "print(f'La radice quadrata di {m} è {n:.2f}.\\n Verifichiamo, {n:.2f} x {n:.2f} = {p:.2f}')"
   ]
  },
  {
   "cell_type": "markdown",
   "metadata": {
    "slideshow": {
     "slide_type": "slide"
    }
   },
   "source": [
    "## Liste\n",
    "Un array è una lista *ordinata* (per posizione) di numeri. Ciascun elemento della lista è individuato dalla sua posizione, o *indice*.\n",
    "\n",
    "Un array è la struttura ideale per contenere dati da analizzare.\n",
    "\n",
    "```{note}\n",
    "Oggi le liste di dati possono contenere *milioni* di elementi.\n",
    "```"
   ]
  },
  {
   "cell_type": "markdown",
   "metadata": {
    "slideshow": {
     "slide_type": "subslide"
    }
   },
   "source": [
    "### I dati\n",
    "I dati sono solitamente caricati da un file, che può essere anche disponibile in rete.\n",
    "\n",
    "Vrdiamo un semplice esempio"
   ]
  },
  {
   "cell_type": "code",
   "execution_count": 6,
   "metadata": {
    "slideshow": {
     "slide_type": "-"
    }
   },
   "outputs": [
    {
     "name": "stdout",
     "output_type": "stream",
     "text": [
      "Trattiamo 7 dati.\n"
     ]
    }
   ],
   "source": [
    "dati = [2, 3, 4, 3, 3, 5, 10]\n",
    "\n",
    "# il numero di dati\n",
    "print(f'Trattiamo {len(dati)} dati.')"
   ]
  },
  {
   "cell_type": "markdown",
   "metadata": {
    "slideshow": {
     "slide_type": "subslide"
    }
   },
   "source": [
    "### Trovare la media\n",
    "Dato un insieme di valori (insieme, quimdi non ordinato), possiamo trvare un *indice di posizione*, cioè un *unico* mumero che provi a riassumerli.\n",
    "\n",
    "Nel caso di un insieme di valori *numerici*, un indice molto utilizzato è la *media*.\n",
    "Nel caso di dati qualitativi categorizzati, un possibile indice è la *moda*."
   ]
  },
  {
   "cell_type": "code",
   "execution_count": 7,
   "metadata": {},
   "outputs": [
    {
     "name": "stdout",
     "output_type": "stream",
     "text": [
      "La media è 4.29.\n"
     ]
    }
   ],
   "source": [
    "# la media\n",
    "media = np.mean(dati)\n",
    "print(f'La media è {media:.2f}.')"
   ]
  },
  {
   "cell_type": "markdown",
   "metadata": {
    "slideshow": {
     "slide_type": "slide"
    }
   },
   "source": [
    "## Le operazioni sui numeri\n",
    "Scriviamo un piccolo programma di esempio.\n",
    "\n",
    "Vediamo prima come creare una lista di numeri."
   ]
  },
  {
   "cell_type": "code",
   "execution_count": 8,
   "metadata": {},
   "outputs": [
    {
     "name": "stdout",
     "output_type": "stream",
     "text": [
      "[1, 3]\n"
     ]
    }
   ],
   "source": [
    "mylist = [x for x in range(1, 5, 2)]\n",
    "\n",
    "print(mylist)"
   ]
  },
  {
   "cell_type": "markdown",
   "metadata": {},
   "source": [
    "Notiamo che il $5$ *non* compare nella lista.\n",
    "\n",
    "Proviamo a realizzare un *ciclo*."
   ]
  },
  {
   "cell_type": "code",
   "execution_count": 9,
   "metadata": {
    "slideshow": {
     "slide_type": "subslide"
    }
   },
   "outputs": [
    {
     "name": "stdout",
     "output_type": "stream",
     "text": [
      "La somma dei numeri è 6.\n"
     ]
    }
   ],
   "source": [
    "s = 0\n",
    "a = 1\n",
    "n = 4\n",
    "\n",
    "# sono i primi n-1 numeri\n",
    "for a in range(1, n, 1):\n",
    "    s = s + a\n",
    "    \n",
    "print(f'La somma dei numeri è {s}.')"
   ]
  },
  {
   "cell_type": "markdown",
   "metadata": {
    "slideshow": {
     "slide_type": "subslide"
    }
   },
   "source": [
    "Naturalmente la funzione per sommare gli elementi di una lista è già presente nelle librerie."
   ]
  },
  {
   "cell_type": "code",
   "execution_count": 10,
   "metadata": {},
   "outputs": [
    {
     "name": "stdout",
     "output_type": "stream",
     "text": [
      "La somma è 30.\n"
     ]
    }
   ],
   "source": [
    "s = np.sum(dati)\n",
    "\n",
    "print(f'La somma è {s}.')"
   ]
  },
  {
   "cell_type": "markdown",
   "metadata": {},
   "source": [
    "Esiste la funzione per moltiplicare gli elementi di una lista."
   ]
  },
  {
   "cell_type": "code",
   "execution_count": 11,
   "metadata": {},
   "outputs": [
    {
     "name": "stdout",
     "output_type": "stream",
     "text": [
      "Il prodottoa è 10800.\n"
     ]
    }
   ],
   "source": [
    "p = np.prod(dati)\n",
    "\n",
    "print(f'Il prodottoa è {p}.')"
   ]
  },
  {
   "cell_type": "markdown",
   "metadata": {
    "slideshow": {
     "slide_type": "slide"
    }
   },
   "source": [
    "### Operazioni sui binari\n",
    "Le operazioni sui numeri binari sono abbastanza misteriose."
   ]
  },
  {
   "cell_type": "code",
   "execution_count": 12,
   "metadata": {},
   "outputs": [
    {
     "name": "stdout",
     "output_type": "stream",
     "text": [
      "Il decimale 5 in binario è 101.\n",
      "Il decimale 2 in binario è 10.\n",
      "Il decimale 0 in binario è 0.\n",
      "Operazione binaria: 5 and 2 = 0.\n"
     ]
    }
   ],
   "source": [
    "b1 = 5\n",
    "b2 = 2\n",
    "\n",
    "b3 = np.bitwise_and(b1, b2)\n",
    "\n",
    "print(f'Il decimale {b1} in binario è {np.binary_repr(b1)}.')\n",
    "print(f'Il decimale {b2} in binario è {np.binary_repr(b2)}.')\n",
    "print(f'Il decimale {b3} in binario è {np.binary_repr(b3)}.')\n",
    "\n",
    "print(f'Operazione binaria: {b} and {b2} = {b3}.')"
   ]
  },
  {
   "cell_type": "code",
   "execution_count": null,
   "metadata": {},
   "outputs": [],
   "source": []
  }
 ],
 "metadata": {
  "kernelspec": {
   "display_name": "Python 3",
   "language": "python",
   "name": "python3"
  },
  "language_info": {
   "codemirror_mode": {
    "name": "ipython",
    "version": 3
   },
   "file_extension": ".py",
   "mimetype": "text/x-python",
   "name": "python",
   "nbconvert_exporter": "python",
   "pygments_lexer": "ipython3",
   "version": "3.8.8"
  }
 },
 "nbformat": 4,
 "nbformat_minor": 4
}

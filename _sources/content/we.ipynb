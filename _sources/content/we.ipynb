{
 "cells": [
  {
   "cell_type": "markdown",
   "id": "e551f3d4",
   "metadata": {},
   "source": [
    "# Chi siamo\n",
    "Siamo un gruppo affiatato di persone che compiono ricerche un po' sull'antico (latino, greco) e molto sul moderno (matematica, scienze).\n",
    "\n",
    ":::{figure} img/gruppo.png\n",
    "---\n",
    "height: 150px\n",
    "name: fig-gruppo\n",
    "---\n",
    "Da OpenClipArt\n",
    ":::\n",
    "\n",
    "Questo gruppo è composto da\n",
    "* Corrado, Lorenzo V.;\n",
    "* Lavinia M., Martina S., Sofia C.;\n",
    "* Francesca N., Miriam P., Silvia M., Victoria U. \n",
    "\n",
    "<video controls width=960 height=540\n",
    "       src=\"../_static/video/mteam.mp4\">\n",
    "    Il tuo browser non riesce a visualizzare il video in questa pagina.\n",
    "</video>"
   ]
  },
  {
   "cell_type": "markdown",
   "id": "c0adaa84",
   "metadata": {},
   "source": [
    "## Il nostro motto\n",
    "E' l'iscrizione affissa sulla plancia dell'Enterprise NCC-1701 (Star Trek TOS).\n",
    "> **G. Roddenderry**: \n",
    "> Per spingersi coraggiosamente là dove nessuno è mai giunto prima."
   ]
  },
  {
   "cell_type": "code",
   "execution_count": null,
   "id": "36e7ee4b",
   "metadata": {},
   "outputs": [],
   "source": []
  }
 ],
 "metadata": {
  "jupytext": {
   "formats": "md:myst,ipynb",
   "text_representation": {
    "extension": ".md",
    "format_name": "myst",
    "format_version": 0.13,
    "jupytext_version": "1.11.5"
   }
  },
  "kernelspec": {
   "display_name": "Python 3",
   "language": "python",
   "name": "python3"
  },
  "language_info": {
   "codemirror_mode": {
    "name": "ipython",
    "version": 3
   },
   "file_extension": ".py",
   "mimetype": "text/x-python",
   "name": "python",
   "nbconvert_exporter": "python",
   "pygments_lexer": "ipython3",
   "version": "3.8.8"
  }
 },
 "nbformat": 4,
 "nbformat_minor": 5
}

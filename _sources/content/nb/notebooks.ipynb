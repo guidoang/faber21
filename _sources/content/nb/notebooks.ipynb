{
 "cells": [
  {
   "cell_type": "markdown",
   "id": "6b519587",
   "metadata": {},
   "source": [
    "(title:notebooks)=\n",
    "# I notebook\n",
    "Un notebook è una pagina web che contiene\n",
    "* *testo* formattato, nelle celle di markdown;\n",
    "* *programmi*, nelle celle di codice, che producono risultati attinenti al contenuto testuale.\n",
    "\n",
    "Un ambiente di programmazione e/o analisi può offrire un'interfaccia a notebook per interagire con l'utente.<br/>\n",
    "ad esempio, *Jupyter* consente la preparazione di un notebook usando vari linguaggi.<br/>\n",
    "Altro esempio, *SageMath* è un ambiente per programmare matematica che offre un'interfaccia a notebook."
   ]
  },
  {
   "cell_type": "markdown",
   "id": "9d3ad4f8",
   "metadata": {},
   "source": [
    "## Celle\n",
    "All'interno di un notebook si possono avere:\n",
    "* celle di markdown,\n",
    "* celle di codice.\n",
    "La natura di una cella è determinata dalla scelta in un apposito menù ({numref}`fig:celltype`).\n",
    ":::{figure} img/celltype.png\n",
    "---\n",
    "height: 150px\n",
    "name: fig-celltype\n",
    "---\n",
    "Menù del tipo di cella\n",
    ":::\n",
    "### Celle di markdown\n",
    "Le celle di markdown sono caselle di testo *quasi* normale, Il testo può essere arricchito (*rich text*) tramite i markdown, che sono tag che consentono di migliorare l'aspetto del testo e di aggiungere funzionalità tipiche di una pagina web (tabelle, figure, link)."
   ]
  }
 ],
 "metadata": {
  "jupytext": {
   "formats": "md:myst",
   "text_representation": {
    "extension": ".md",
    "format_name": "myst"
   }
  },
  "kernelspec": {
   "display_name": "Python 3",
   "language": "python",
   "name": "python3"
  },
  "language_info": {
   "codemirror_mode": {
    "name": "ipython",
    "version": 3
   },
   "file_extension": ".py",
   "mimetype": "text/x-python",
   "name": "python",
   "nbconvert_exporter": "python",
   "pygments_lexer": "ipython3",
   "version": "3.8.8"
  },
  "source_map": [
   11,
   845,
   848,
   963,
   967,
   995,
   1005,
   1037,
   1048,
   1079,
   1085
  ]
 },
 "nbformat": 4,
 "nbformat_minor": 5
}

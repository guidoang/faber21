{
 "cells": [
  {
   "cell_type": "markdown",
   "id": "0e1abe00",
   "metadata": {},
   "source": [
    "(title:misurag)=\n",
    "# L'accelerazione di gravità\n",
    "L'accelerazione di gravità $g$ varia da punto a punto intorno alla superficie terrestre.\n",
    "Il suo valore *convenzionale* è\n",
    ":::{math}\n",
    ":label: eq-gconv\n",
    "g = 9.80665 \\ \\mathrm{m/s^2}\n",
    ":::"
   ]
  },
  {
   "cell_type": "markdown",
   "id": "8a885bd4",
   "metadata": {},
   "source": [
    "## Il pendolo semplice"
   ]
  },
  {
   "cell_type": "markdown",
   "id": "65f4f393",
   "metadata": {},
   "source": [
    ":::{figure} img/fig-pendolo.png\n",
    "---\n",
    "height: 150px\n",
    "name: fig-pendolo\n",
    "---\n",
    "Da OpenClipArt\n",
    ":::\n",
    "Per *misurare* l'accelerazione $g$, un modo facile è utilizzare un pendolo semplice.\n",
    "Occorre misurare:\n",
    " * la lunghezza $\\mathcal{l}$;\n",
    " * il periodo di oscillazione $T$.\n",
    " \n",
    "Queste due grandezze, che misuriamo, sono legate dalla\n",
    ":::{math}\n",
    ":label: eq-Tpendolo\n",
    "T = 2 \\pi \\sqrt{ \\frac{\\mathcal{l}}{g} }\n",
    ":::\n",
    "Nella relazione {eq}`eq-Tpendolo`, se misuriamo $l$ e $g$, l'unica grandezza sperimentale ignota è $g$.\n",
    " \n",
    "Da questa relazione si può ricavare $g$:\n",
    ":::{math}\n",
    ":label: eq-gricav\n",
    "g = 4 \\pi^2 \\frac{\\mathcal{l}}{T^2}\n",
    ":::"
   ]
  },
  {
   "cell_type": "markdown",
   "id": "3a6e3a7b",
   "metadata": {},
   "source": [
    "Nel seguito, per svolgere i calcoli, occorrono semplicemente"
   ]
  },
  {
   "cell_type": "code",
   "execution_count": 1,
   "id": "8a30fc84",
   "metadata": {},
   "outputs": [],
   "source": [
    "# gli import\n",
    "import math\n",
    "import numpy as np"
   ]
  },
  {
   "cell_type": "markdown",
   "id": "5a40d176",
   "metadata": {},
   "source": [
    "## L'esperimento\n",
    "Lo scopo dell'esperimento *non* è quello di trovare *un* valore per $g$.\n",
    "Occorre trovare un valore per $g$ *sufficientemente preciso* da mostrare quanto la gravità locale differisca dal valore convenzionale {eq}`eq-gconv` dato sopra.<br/>\n",
    "Diciamo che grsso modo l'errore su $g$ dovrebbe essere al massimo\n",
    ":::{math}\n",
    ":label: eq-gerror\n",
    "e_g = \\pm 0.002 \\ \\mathrm{m/s^2}\n",
    ":::\n",
    "che corriponde ad un errore relativo\n",
    ":::{math}\n",
    ":label: eq-gerrorrel\n",
    "e_{rg} = \\frac{e_g}{g} = \\pm 0.02 \\mathrm{%}\n",
    ":::\n",
    "\n",
    "Questo errore relativo vincola gli errori relativi su $l$ e $T$, errori relativi che devono essere *più piccoli*.\n",
    "Quindi, se fosse $l = 2.5 \\ \\mathrm{m}$, l'errore su questo valore dovrebbe essere più piccolo di\n",
    ":::{math}\n",
    ":label: eq-lerror\n",
    "e_{l} < \\pm 2 \\ \\mathrm{mm}\n",
    ":::\n",
    "\n",
    "Per quanto riguarda il periodo $T$, dovrebbe essere\n",
    ":::{math}\n",
    ":label: eq-Terror\n",
    "e_{T} < \\pm 0.6 \\ \\mathrm{ms}\n",
    ":::\n",
    "questa è una precisione difficile da raggiungere con *una sola* misura."
   ]
  },
  {
   "cell_type": "markdown",
   "id": "870e2f3f",
   "metadata": {},
   "source": [
    "## I valori misurati\n",
    "Alla fine dell'esperimento, riportiamo i valori sperimentali di $\\mathcal{l}$ e $g$ in unità S.I."
   ]
  },
  {
   "cell_type": "code",
   "execution_count": 2,
   "id": "037f5b30",
   "metadata": {},
   "outputs": [],
   "source": [
    "# in metri\n",
    "L = 2.500\n",
    "# in secondi\n",
    "T = 3.1745"
   ]
  },
  {
   "cell_type": "markdown",
   "id": "7c46332d",
   "metadata": {},
   "source": [
    "## Il risultato\n",
    "I valori sperimentali portano ad un valore di $g$"
   ]
  },
  {
   "cell_type": "code",
   "execution_count": 3,
   "id": "4e40db54",
   "metadata": {},
   "outputs": [
    {
     "name": "stdout",
     "output_type": "stream",
     "text": [
      "Il valore misurato di g = 9.794\n"
     ]
    }
   ],
   "source": [
    "g = 4*(math.pi)**2*L/T**2\n",
    "print(f'Il valore misurato di g = {g:.3f}')"
   ]
  },
  {
   "cell_type": "markdown",
   "id": "bce5df1c",
   "metadata": {},
   "source": [
    "## L'errore\n",
    "L'errore sul valore di $g$ dipende ovviamente da quelli su $l$ e $T$.\n",
    "\n",
    "Innanzitutto usiamo $\\pi$ con una sufficiente precisione:"
   ]
  },
  {
   "cell_type": "code",
   "execution_count": 4,
   "id": "e3bf8978",
   "metadata": {},
   "outputs": [
    {
     "name": "stdout",
     "output_type": "stream",
     "text": [
      "Il valore di pi è 3.141593\n"
     ]
    }
   ],
   "source": [
    "print(f'Il valore di pi è {math.pi:.6f}')"
   ]
  }
 ],
 "metadata": {
  "kernelspec": {
   "display_name": "Python 3",
   "language": "python",
   "name": "python3"
  },
  "language_info": {
   "codemirror_mode": {
    "name": "ipython",
    "version": 3
   },
   "file_extension": ".py",
   "mimetype": "text/x-python",
   "name": "python",
   "nbconvert_exporter": "python",
   "pygments_lexer": "ipython3",
   "version": "3.8.8"
  }
 },
 "nbformat": 4,
 "nbformat_minor": 5
}

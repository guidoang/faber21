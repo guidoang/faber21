{
 "cells": [
  {
   "cell_type": "markdown",
   "metadata": {},
   "source": [
    "(title:misurag2)=\n",
    "# L'accelerazione di gravità 2"
   ]
  },
  {
   "cell_type": "markdown",
   "metadata": {},
   "source": [
    "Per calcolare l'accelerazione di gravità $g$ dai dati sperimentali, basta utilizzare un notebook e le formule trovate nella [lezione precedente](title:misurag).<br/>\n",
    "Un notebook ci consente, anche e soprattutto, di calcolare automaticamente gli errori.\n",
    "\n",
    ":::{attention}\n",
    "Questa è una semplice pagina HTML *statica*, non può effettuare alcun calcolo perché *non* può includere il necessario software.<br/>\n",
    "Per effettuare i propri calcoli, duplicare questo notebook online.\n",
    ":::\n",
    "\n",
    "Carichiamo le necessarie librerie"
   ]
  },
  {
   "cell_type": "code",
   "execution_count": 1,
   "metadata": {},
   "outputs": [],
   "source": [
    "# per i calcoli\n",
    "import math\n",
    "# per gli errori\n",
    "from uncertainties import ufloat\n",
    "# la interfaccia\n",
    "import ipywidgets as widgets\n",
    "from ipywidgets import interactive_output, Text, BoundedFloatText, VBox"
   ]
  },
  {
   "cell_type": "markdown",
   "metadata": {},
   "source": [
    "## Il calcolo\n",
    "Effettuato l'esperimento, per calcolare l'accelerazione di gravità basta inserire i valori misurati di $l$ e $T$ e i corrispondenti errori nel modulo qui sotto."
   ]
  },
  {
   "cell_type": "code",
   "execution_count": 2,
   "metadata": {},
   "outputs": [
    {
     "data": {
      "application/vnd.jupyter.widget-view+json": {
       "model_id": "cb4528c27aa248b7938a668c7815da05",
       "version_major": 2,
       "version_minor": 0
      },
      "text/plain": [
       "BoundedFloatText(value=2.5, description='Lungh. (m)', max=3.0, min=0.1, step=0.001)"
      ]
     },
     "metadata": {},
     "output_type": "display_data"
    },
    {
     "data": {
      "application/vnd.jupyter.widget-view+json": {
       "model_id": "f683a059382a45889a64dd58204289f4",
       "version_major": 2,
       "version_minor": 0
      },
      "text/plain": [
       "BoundedFloatText(value=0.001, description='errore (m)', max=0.05, min=0.0005, step=0.0005)"
      ]
     },
     "metadata": {},
     "output_type": "display_data"
    },
    {
     "data": {
      "application/vnd.jupyter.widget-view+json": {
       "model_id": "ef225ef477974487accfb17590451a6c",
       "version_major": 2,
       "version_minor": 0
      },
      "text/plain": [
       "BoundedFloatText(value=3.1745, description='Periodo (s)', max=4.0, min=0.1, step=0.001)"
      ]
     },
     "metadata": {},
     "output_type": "display_data"
    },
    {
     "data": {
      "application/vnd.jupyter.widget-view+json": {
       "model_id": "000c1a1f866c4b2eb4ff54d2bce49f9a",
       "version_major": 2,
       "version_minor": 0
      },
      "text/plain": [
       "BoundedFloatText(value=0.01, description='errore (s)', max=0.1, min=0.001, step=0.001)"
      ]
     },
     "metadata": {},
     "output_type": "display_data"
    },
    {
     "data": {
      "application/vnd.jupyter.widget-view+json": {
       "model_id": "8e6e35c11bde4854b27824385e40786b",
       "version_major": 2,
       "version_minor": 0
      },
      "text/plain": [
       "Text(value='9.79375 +-0.06183', continuous_update=False, description='Accel.', disabled=True)"
      ]
     },
     "metadata": {},
     "output_type": "display_data"
    },
    {
     "data": {
      "application/vnd.jupyter.widget-view+json": {
       "model_id": "d7043b400f2841b9902a393f4b0e0f8d",
       "version_major": 2,
       "version_minor": 0
      },
      "text/plain": [
       "Output()"
      ]
     },
     "metadata": {},
     "output_type": "display_data"
    }
   ],
   "source": [
    "# calcola g\n",
    "def gcalcolato(L, T, eL, eT):\n",
    "    Le = ufloat(L, eL)\n",
    "    Te = ufloat(T, eT)\n",
    "    \n",
    "    g = 4*(math.pi)**2*Le/Te**2\n",
    "    \n",
    "    # mostra il risultato\n",
    "    gs.value = f'{g.nominal_value:.5f} +-{g.std_dev:.5f}'\n",
    "\n",
    "    return\n",
    "\n",
    "\n",
    "Ls = widgets.BoundedFloatText(value='2.500',\n",
    "                              min=0.100, max=3.000, step=0.001,\n",
    "                              description='Lungh. (m)',\n",
    "                              disabled=False,\n",
    "                              continuous_update=False,\n",
    "                              readout=True)\n",
    "\n",
    "Ts = widgets.BoundedFloatText(value='3.1745',\n",
    "                              min=0.100, max=4.000, step=0.001,\n",
    "                              description='Periodo (s)',\n",
    "                              disabled=False,\n",
    "                              continuous_update=False,\n",
    "                              readout=True)\n",
    "\n",
    "eL = widgets.BoundedFloatText(value='0.001',\n",
    "                              min=0.0005, max=0.050, step=0.0005,\n",
    "                              description='errore (m)',\n",
    "                              disabled=False,\n",
    "                              continuous_update=False,\n",
    "                              readout=True)\n",
    "\n",
    "eT = widgets.BoundedFloatText(value='0.01',\n",
    "                              min=0.001, max=0.100, step=0.001,\n",
    "                              description='errore (s)',\n",
    "                              disabled=False,\n",
    "                              continuous_update=False,\n",
    "                              readout=True)\n",
    "\n",
    "gs = widgets.Text(value='',\n",
    "                  description='Accel.',\n",
    "                  disabled=True,\n",
    "                  continuous_update=False,\n",
    "                  readout=True)\n",
    "\n",
    "ui = widgets.VBox([Ls, eL, Ts, eT, gs])\n",
    "\n",
    "out = widgets.interactive_output(gcalcolato, {'L': Ls, 'T': Ts, 'eL':eL, 'eT':eT})\n",
    "\n",
    "display(Ls, eL, Ts, eT, gs, out)"
   ]
  },
  {
   "cell_type": "code",
   "execution_count": null,
   "metadata": {},
   "outputs": [],
   "source": []
  }
 ],
 "metadata": {
  "kernelspec": {
   "display_name": "Python 3",
   "language": "python",
   "name": "python3"
  },
  "language_info": {
   "codemirror_mode": {
    "name": "ipython",
    "version": 3
   },
   "file_extension": ".py",
   "mimetype": "text/x-python",
   "name": "python",
   "nbconvert_exporter": "python",
   "pygments_lexer": "ipython3",
   "version": "3.8.8"
  }
 },
 "nbformat": 4,
 "nbformat_minor": 4
}
